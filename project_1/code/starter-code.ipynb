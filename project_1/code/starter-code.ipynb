{
 "cells": [
  {
   "cell_type": "markdown",
   "metadata": {},
   "source": [
    "# Project 1: SAT & ACT Analysis"
   ]
  },
  {
   "cell_type": "markdown",
   "metadata": {},
   "source": [
    "\n",
    "\n",
    "\n",
    "## Problem Statement"
   ]
  },
  {
   "cell_type": "markdown",
   "metadata": {},
   "source": [
    "SAT and ACT, both are standardized tests that colleges and universities use as a benchmark when making admissions decisions. In this project, we're going to take a look at aggregate SAT and ACT scores and participation rates from each state in the United States. We'll seek to identify trends in the data and combine our data analysis with outside research to identify likely factors influencing participation rates and scores in various states. In the end, provide suggestion for how the College Board might increase participation rate.The tool we are going to use for this project is Jupyter Notebook.\n"
   ]
  },
  {
   "cell_type": "markdown",
   "metadata": {},
   "source": [
    "## Executive Summary\n",
    "\n",
    "If you want to, it's great to use relative links to direct your audience to various sections of a notebook. **HERE'S A DEMONSTRATION WITH THE CURRENT SECTION HEADERS**:\n",
    "\n",
    "### Contents:\n",
    "- [2017 Data Import & Cleaning](#Data-Import-and-Cleaning)\n",
    "- [2018 Data Import and Cleaning](#2018-Data-Import-and-Cleaning)\n",
    "- [Exploratory Data Analysis](#Exploratory-Data-Analysis)\n",
    "- [Data Visualization](#Visualize-the-data)\n",
    "- [Descriptive and Inferential Statistics](#Descriptive-and-Inferential-Statistics)\n",
    "- [Outside Research](#Outside-Research)\n",
    "- [Conclusions and Recommendations](#Conclusions-and-Recommendations)"
   ]
  },
  {
   "cell_type": "markdown",
   "metadata": {},
   "source": [
    "**If you combine your problem statement, executive summary, data dictionary, and conclusions/recommendations, you have an amazing README.md file that quickly aligns your audience to the contents of your project.** Don't forget to cite your data sources!"
   ]
  },
  {
   "cell_type": "markdown",
   "metadata": {},
   "source": [
    "*All libraries used should be added here*"
   ]
  },
  {
   "cell_type": "code",
   "execution_count": 1,
   "metadata": {},
   "outputs": [],
   "source": [
    "\n",
    "import pandas as pd\n",
    "import numpy as np\n",
    "import seaborn as sns\n",
    "import matplotlib.pyplot as plt"
   ]
  },
  {
   "cell_type": "markdown",
   "metadata": {},
   "source": [
    "## 2017 Data Import and Cleaning"
   ]
  },
  {
   "cell_type": "markdown",
   "metadata": {},
   "source": [
    "#### 1. Read In SAT & ACT  Data\n",
    "\n",
    "Read in the `sat_2017.csv` and `act_2017.csv` files and assign them to appropriately named pandas dataframes."
   ]
  },
  {
   "cell_type": "code",
   "execution_count": 2,
   "metadata": {
    "scrolled": true
   },
   "outputs": [],
   "source": [
    "sat_2017 = pd.read_csv(\"../data/sat_2017.csv\")\n",
    "act_2017 = pd.read_csv(\"../data/act_2017.csv\")\n"
   ]
  },
  {
   "cell_type": "markdown",
   "metadata": {},
   "source": [
    "#### 2. Display Data\n",
    "\n",
    "Print the first 10 rows of each dataframe to your jupyter notebook"
   ]
  },
  {
   "cell_type": "code",
   "execution_count": 3,
   "metadata": {},
   "outputs": [
    {
     "name": "stdout",
     "output_type": "stream",
     "text": [
      "                  State Participation  Evidence-Based Reading and Writing  \\\n",
      "0               Alabama            5%                                 593   \n",
      "1                Alaska           38%                                 547   \n",
      "2               Arizona           30%                                 563   \n",
      "3              Arkansas            3%                                 614   \n",
      "4            California           53%                                 531   \n",
      "5              Colorado           11%                                 606   \n",
      "6           Connecticut          100%                                 530   \n",
      "7              Delaware          100%                                 503   \n",
      "8  District of Columbia          100%                                 482   \n",
      "9               Florida           83%                                 520   \n",
      "\n",
      "   Math  Total  \n",
      "0   572   1165  \n",
      "1   533   1080  \n",
      "2   553   1116  \n",
      "3   594   1208  \n",
      "4   524   1055  \n",
      "5   595   1201  \n",
      "6   512   1041  \n",
      "7   492    996  \n",
      "8   468    950  \n",
      "9   497   1017  \n",
      "                  State Participation  English  Math  Reading  Science  \\\n",
      "0              National           60%     20.3  20.7     21.4     21.0   \n",
      "1               Alabama          100%     18.9  18.4     19.7     19.4   \n",
      "2                Alaska           65%     18.7  19.8     20.4     19.9   \n",
      "3               Arizona           62%     18.6  19.8     20.1     19.8   \n",
      "4              Arkansas          100%     18.9  19.0     19.7     19.5   \n",
      "5            California           31%     22.5  22.7     23.1     22.2   \n",
      "6              Colorado          100%     20.1  20.3     21.2     20.9   \n",
      "7           Connecticut           31%     25.5  24.6     25.6     24.6   \n",
      "8              Delaware           18%     24.1  23.4     24.8     23.6   \n",
      "9  District of Columbia           32%     24.4  23.5     24.9     23.5   \n",
      "\n",
      "  Composite  \n",
      "0      21.0  \n",
      "1      19.2  \n",
      "2      19.8  \n",
      "3      19.7  \n",
      "4      19.4  \n",
      "5      22.8  \n",
      "6      20.8  \n",
      "7      25.2  \n",
      "8      24.1  \n",
      "9      24.2  \n"
     ]
    }
   ],
   "source": [
    "print(sat_2017.head(10))\n",
    "print(act_2017.head(10))"
   ]
  },
  {
   "cell_type": "markdown",
   "metadata": {},
   "source": [
    "#### 3. Verbally Describe Data\n",
    "\n",
    "Take your time looking through the data and thoroughly describe the data in the markdown cell below. "
   ]
  },
  {
   "cell_type": "markdown",
   "metadata": {},
   "source": [
    "Answer: The act_2017 contains 2017 ACT scores for different states in US. It include 7 variables with data size 52. The datatype for state is string and others are float.\n",
    "The sat_2017 contains 2017 SAT scores for different states in US. It has 4 variables with data size 51. The datetype for states is string, for participation rate is float and others are integer."
   ]
  },
  {
   "cell_type": "markdown",
   "metadata": {},
   "source": [
    "#### 4a. Does the data look complete? "
   ]
  },
  {
   "cell_type": "markdown",
   "metadata": {},
   "source": [
    "Answer: United States has 50 states and a district. All cells are filled so the data is complete."
   ]
  },
  {
   "cell_type": "markdown",
   "metadata": {},
   "source": [
    "#### 4b. Are there any obvious issues with the observations?\n",
    "\n",
    "**What is the minimum *possible* value for each test/subtest? What is the maximum *possible* value?**\n",
    "\n",
    "Consider comparing any questionable values to the sources of your data:\n",
    "- [SAT](https://blog.collegevine.com/here-are-the-average-sat-scores-by-state/)\n",
    "- [ACT](https://blog.prepscholar.com/act-scores-by-state-averages-highs-and-lows)"
   ]
  },
  {
   "cell_type": "markdown",
   "metadata": {},
   "source": [
    "Answer: \n",
    "For SAT, \n",
    "    The minimum possible value for Evidence-Based Reading and Writing is 200, and the maximun possible value is 800.\n",
    "    The minimum possibel value for Math is 200, and the maximun possible value is 800. \n",
    "    The total value is from 400 to 1600.\n",
    "For ACT,\n",
    "    The minimum possible value for English, Math, Reading and Composite is 1, and the maximun possible value is 36.\n",
    "    "
   ]
  },
  {
   "cell_type": "markdown",
   "metadata": {},
   "source": [
    "#### 4c. Fix any errors you identified\n",
    "\n",
    "**The data is available** so there's no need to guess or calculate anything. If you didn't find any errors, continue to the next step."
   ]
  },
  {
   "cell_type": "code",
   "execution_count": 4,
   "metadata": {},
   "outputs": [
    {
     "name": "stdout",
     "output_type": "stream",
     "text": [
      "       State Participation  Evidence-Based Reading and Writing  Math  Total\n",
      "20  Maryland           69%                                 536    52   1060\n"
     ]
    }
   ],
   "source": [
    "#check errors for sat_2017\n",
    "def check_sat(c):\n",
    "    for i in sat_2017[c]:\n",
    "        if float(i)<200 or float(i)>800:\n",
    "            print(sat_2017[sat_2017.values == i])\n",
    "    \n",
    "check_sat('Evidence-Based Reading and Writing')\n",
    "check_sat('Math')\n",
    "\n",
    "#correcting the data\n",
    "sat_2017 = sat_2017.replace(52,524) \n",
    "\n",
    "\n",
    "\n"
   ]
  },
  {
   "cell_type": "code",
   "execution_count": 5,
   "metadata": {
    "scrolled": true
   },
   "outputs": [],
   "source": [
    "#check errors for act_2017\n",
    "def check_act(c):\n",
    "    for i in act_2017[c]:\n",
    "        if float(i)<1 or float(i)>36:\n",
    "            print(act_2017[act_2017.values == i])\n",
    "            \n",
    "check_act('English')\n",
    "check_act('Math')\n",
    "check_act('Reading')\n",
    "check_act('Science')\n",
    "#check_act('Composite')\n",
    "#output: ValueError: could not convert string to float: '20.2x'\n",
    "\n",
    "#correcting the data\n",
    "act_2017 = act_2017.replace('20.2x','20.2')\n",
    "\n",
    "#The science score for Maryland is 2.3\n",
    "act_2017.loc[21,'Science'] = 23.2\n"
   ]
  },
  {
   "cell_type": "markdown",
   "metadata": {},
   "source": [
    "#### 5. What are your data types? \n",
    "Display the data types of each feature. "
   ]
  },
  {
   "cell_type": "code",
   "execution_count": 6,
   "metadata": {},
   "outputs": [
    {
     "name": "stdout",
     "output_type": "stream",
     "text": [
      "State                                 object\n",
      "Participation                         object\n",
      "Evidence-Based Reading and Writing     int64\n",
      "Math                                   int64\n",
      "Total                                  int64\n",
      "dtype: object\n",
      "State             object\n",
      "Participation     object\n",
      "English          float64\n",
      "Math             float64\n",
      "Reading          float64\n",
      "Science          float64\n",
      "Composite         object\n",
      "dtype: object\n"
     ]
    }
   ],
   "source": [
    "#data type for sat_2017\n",
    "print(sat_2017.dtypes)\n",
    "\n",
    "#data type for act_2017\n",
    "print(act_2017.dtypes)\n"
   ]
  },
  {
   "cell_type": "markdown",
   "metadata": {},
   "source": [
    "What did you learn?\n",
    "- Do any of them seem odd?  \n",
    "- Which ones are not as they should be?  "
   ]
  },
  {
   "cell_type": "markdown",
   "metadata": {},
   "source": [
    "Answer: Yes.\n",
    "the type of participantion rates for both datasets and composite for act_2017 should be float."
   ]
  },
  {
   "cell_type": "markdown",
   "metadata": {},
   "source": [
    "#### 6. Fix Incorrect Data Types\n",
    "Based on what you discovered above, use appropriate methods to re-type incorrectly typed data.\n",
    "- Define a function that will allow you to convert participation rates to an appropriate numeric type. Use `map` or `apply` to change these columns in each dataframe."
   ]
  },
  {
   "cell_type": "code",
   "execution_count": 7,
   "metadata": {},
   "outputs": [],
   "source": [
    "#change participation rates to an appropriate numeric type\n",
    "#remove %\n",
    "sat_2017.Participation = sat_2017['Participation'].apply(lambda x : x.replace('%',''))\n",
    "act_2017.Participation = act_2017['Participation'].apply(lambda x : x.replace('%',''))\n",
    "\n",
    "#change data type\n",
    "act_2017.Participation = act_2017.Participation.astype(float)\n",
    "sat_2017.Participation = sat_2017.Participation.astype(float)\n",
    "\n",
    "act_2017.Participation = act_2017.Participation.map(lambda x : x/100)\n",
    "sat_2017.Participation = sat_2017.Participation.map(lambda x : x/100)\n"
   ]
  },
  {
   "cell_type": "markdown",
   "metadata": {},
   "source": [
    "- Fix any individual values preventing other columns from being the appropriate type."
   ]
  },
  {
   "cell_type": "code",
   "execution_count": 8,
   "metadata": {},
   "outputs": [],
   "source": [
    "#The '20.2x' is fixed in 4c\n",
    "#change data type for composite\n",
    "act_2017.Composite = act_2017.Composite.astype(float)\n"
   ]
  },
  {
   "cell_type": "markdown",
   "metadata": {},
   "source": [
    "- Finish your data modifications by making sure the columns are now typed appropriately."
   ]
  },
  {
   "cell_type": "code",
   "execution_count": 9,
   "metadata": {},
   "outputs": [],
   "source": [
    "def check_act(c):\n",
    "    for i in act_2017[c]:\n",
    "        if i<1 or i>36:\n",
    "            print(act_2017[act_2017.values == i])\n",
    "        \n",
    "check_act('Composite')"
   ]
  },
  {
   "cell_type": "markdown",
   "metadata": {},
   "source": [
    "- Display the data types again to confirm they are correct."
   ]
  },
  {
   "cell_type": "code",
   "execution_count": 10,
   "metadata": {},
   "outputs": [
    {
     "name": "stdout",
     "output_type": "stream",
     "text": [
      "State                                  object\n",
      "Participation                         float64\n",
      "Evidence-Based Reading and Writing      int64\n",
      "Math                                    int64\n",
      "Total                                   int64\n",
      "dtype: object\n",
      "State             object\n",
      "Participation    float64\n",
      "English          float64\n",
      "Math             float64\n",
      "Reading          float64\n",
      "Science          float64\n",
      "Composite        float64\n",
      "dtype: object\n"
     ]
    }
   ],
   "source": [
    "#data type for sat_2017\n",
    "print(sat_2017.dtypes)\n",
    "\n",
    "#data type for act_2017\n",
    "print(act_2017.dtypes)"
   ]
  },
  {
   "cell_type": "markdown",
   "metadata": {},
   "source": [
    "#### 7. Rename Columns\n",
    "Change the names of the columns to more expressive names so that you can tell the difference the SAT columns and the ACT columns. Your solution should map all column names being changed at once (no repeated singular name-changes). **We will be combining these data with some of the data from 2018, and so you should name columns in an appropriate way**.\n",
    "\n",
    "**Guidelines**:\n",
    "- Column names should be all lowercase (you will thank yourself when you start pushing data to SQL later in the course)\n",
    "- Column names should not contain spaces (underscores will suffice--this allows for using the `df.column_name` method to access columns in addition to `df['column_name']`.\n",
    "- Column names should be unique and informative (the only feature that we actually share between dataframes is the state)."
   ]
  },
  {
   "cell_type": "code",
   "execution_count": 11,
   "metadata": {},
   "outputs": [],
   "source": [
    "#change column names for sat_2017 data\n",
    "old_sat2017 = list(sat_2017.columns[1:])#exclude the state\n",
    "new_sat2017 = [(i + '_sat_2017') for i in old_sat2017]\n",
    "for i in range(len(old_sat2017)): \n",
    "    sat_2017 = sat_2017.rename(index = str, columns = {old_sat2017[i]:new_sat2017[i]})\n",
    "sat_2017 = sat_2017.rename(str.lower, axis='columns')\n",
    "sat_2017.columns = sat_2017.columns.map(lambda x : x.replace(' ','_'))\n",
    "\n",
    "#change column names for act_2017 data\n",
    "old_act2017 = list(act_2017.columns[1:])#exclude the state\n",
    "new_act2017 = [(i + '_act_2017') for i in old_act2017]\n",
    "for i in range(len(old_act2017)): \n",
    "    act_2017 = act_2017.rename(index = str, columns = {old_act2017[i]:new_act2017[i]})\n",
    "act_2017 = act_2017.rename(str.lower, axis='columns')\n"
   ]
  },
  {
   "cell_type": "code",
   "execution_count": 12,
   "metadata": {},
   "outputs": [
    {
     "name": "stdout",
     "output_type": "stream",
     "text": [
      "Index(['state', 'participation_sat_2017',\n",
      "       'evidence-based_reading_and_writing_sat_2017', 'math_sat_2017',\n",
      "       'total_sat_2017'],\n",
      "      dtype='object')\n",
      "Index(['state', 'participation_act_2017', 'english_act_2017', 'math_act_2017',\n",
      "       'reading_act_2017', 'science_act_2017', 'composite_act_2017'],\n",
      "      dtype='object')\n"
     ]
    }
   ],
   "source": [
    "print(sat_2017.columns)\n",
    "print(act_2017.columns)"
   ]
  },
  {
   "cell_type": "markdown",
   "metadata": {},
   "source": [
    "#### 8. Create a data dictionary\n",
    "\n",
    "Now that we've fixed our data, and given it appropriate names, let's create a [data dictionary](http://library.ucmerced.edu/node/10249). \n",
    "\n",
    "A data dictionary provides a quick overview of features/variables/columns, alongside data types and descriptions. The more descriptive you can be, the more useful this document is.\n",
    "\n",
    "Example of a Fictional Data Dictionary Entry: \n",
    "\n",
    "|Feature|Type|Dataset|Description|\n",
    "|---|---|---|---|\n",
    "|**county_pop**|*integer*|2010 census|The population of the county (units in thousands, where 2.5 represents 2500 people).| \n",
    "|**per_poverty**|*float*|2010 census|The percent of the county over the age of 18 living below the 200% of official US poverty rate (units percent to two decimal places 98.10 means 98.1%)|\n",
    "\n",
    "[Here's a quick link to a short guide for formatting markdown in Jupyter notebooks](https://jupyter-notebook.readthedocs.io/en/stable/examples/Notebook/Working%20With%20Markdown%20Cells.html).\n",
    "\n",
    "Provided is the skeleton for formatting a markdown table, with columns headers that will help you create a data dictionary to quickly summarize your data, as well as some examples. **This would be a great thing to copy and paste into your custom README for this project.**"
   ]
  },
  {
   "cell_type": "markdown",
   "metadata": {},
   "source": [
    "|Feature|Type|Dataset|Description|\n",
    "|---|---|---|---|\n",
    "|state|object|SAT|States of U.S.|\n",
    "|participation_sat_2017|float|SAT|The participation rate of SAT 2017|\n",
    "|evidence-based_reading_and_writing_sat_2017|int|SAT|mean evidence-based reading and writing score for SAT 2017|\n",
    "|math_sat_2017|int|SAT|mean math score for SAT 2017|\n",
    "|total_sat_2017|int|SAT|mean total score for SAT 2017|\n",
    "|participation_act_2017|float|ACT|The participation rate of ACT 2017|\n",
    "|english_act_2017|float|ACT|mean english score for ACT 2017|\n",
    "|math_act_2017|float|ACT|mean math score for ACT 2017|\n",
    "|reading_act_2017|float|ACT|mean science score for ACT 2017|\n",
    "|composite_act_2017|float|ACT|mean composite score for ACT 2017|"
   ]
  },
  {
   "cell_type": "markdown",
   "metadata": {},
   "source": [
    "#### 9. Drop unnecessary rows\n",
    "\n",
    "One of our dataframes contains an extra row. Identify and remove this from the dataframe."
   ]
  },
  {
   "cell_type": "code",
   "execution_count": 13,
   "metadata": {},
   "outputs": [
    {
     "name": "stdout",
     "output_type": "stream",
     "text": [
      "(51, 5)\n",
      "(52, 7)\n",
      "['National']\n"
     ]
    },
    {
     "data": {
      "text/plain": [
       "(51, 7)"
      ]
     },
     "execution_count": 13,
     "metadata": {},
     "output_type": "execute_result"
    }
   ],
   "source": [
    "#the number of rows for dataframes\n",
    "print(sat_2017.shape)\n",
    "print(act_2017.shape)\n",
    "\n",
    "#find the extra row\n",
    "sat_state = list(sat_2017.state)\n",
    "act_state = list(act_2017.state)\n",
    "for i in sat_state:\n",
    "    act_state.remove(i)\n",
    "print(act_state)\n",
    "\n",
    "#remove the extra National row for ACT\n",
    "act_2017 = act_2017[act_2017.state != 'National']\n",
    "act_2017.shape\n"
   ]
  },
  {
   "cell_type": "markdown",
   "metadata": {},
   "source": [
    "#### 10. Merge Dataframes\n",
    "\n",
    "Join the 2017 ACT and SAT dataframes using the state in each dataframe as the key. Assign this to a new variable."
   ]
  },
  {
   "cell_type": "code",
   "execution_count": 14,
   "metadata": {},
   "outputs": [],
   "source": [
    "combined_2017 = pd.merge(act_2017,sat_2017,how = \"left\",on = \"state\")"
   ]
  },
  {
   "cell_type": "markdown",
   "metadata": {},
   "source": [
    "#### 11. Save your cleaned, merged dataframe\n",
    "\n",
    "Use a relative path to save out your data as `combined_2017.csv`."
   ]
  },
  {
   "cell_type": "code",
   "execution_count": 15,
   "metadata": {},
   "outputs": [],
   "source": [
    "combined_2017.to_csv('../data/combined_2017.csv')"
   ]
  },
  {
   "cell_type": "markdown",
   "metadata": {},
   "source": [
    "## 2018 Data Import and Cleaning"
   ]
  },
  {
   "cell_type": "markdown",
   "metadata": {},
   "source": [
    "Links to the 2018 ACT and SAT data are provided in the README. These data live in PDFs, and so you'll get to enjoy practicing some *manual* data collection. Save these data as a CSV in your `data` directory, and import, explore, and clean these data in the same way you did above. **Make sure you comment on your steps so it is clear *why* you are doing each process**."
   ]
  },
  {
   "cell_type": "code",
   "execution_count": 16,
   "metadata": {},
   "outputs": [],
   "source": [
    "sat_2018 = pd.read_csv(\"../data/sat_2018.csv\")\n",
    "act_2018 = pd.read_csv(\"../data/act_2018.csv\")"
   ]
  },
  {
   "cell_type": "markdown",
   "metadata": {},
   "source": []
  },
  {
   "cell_type": "code",
   "execution_count": 17,
   "metadata": {},
   "outputs": [
    {
     "name": "stdout",
     "output_type": "stream",
     "text": [
      "(51, 5)\n",
      "(52, 7)\n",
      "State                                 object\n",
      "Participation                         object\n",
      "Evidence-Based Reading and Writing     int64\n",
      "Math                                   int64\n",
      "Total                                  int64\n",
      "dtype: object\n",
      "State             object\n",
      "Participation     object\n",
      "English          float64\n",
      "Math             float64\n",
      "Reading          float64\n",
      "Science          float64\n",
      "Composite        float64\n",
      "dtype: object\n"
     ]
    }
   ],
   "source": [
    "#basic information of data\n",
    "print(sat_2018.shape)\n",
    "print(act_2018.shape)\n",
    "print(sat_2018.dtypes)\n",
    "print(act_2018.dtypes)\n",
    "\n",
    "#change type for participation\n",
    "sat_2018.Participation = sat_2018['Participation'].apply(lambda x : x.replace('%',''))\n",
    "act_2018.Participation = act_2018['Participation'].apply(lambda x : x.replace('%',''))\n",
    "\n",
    "act_2018.Participation = act_2018.Participation.map(lambda x : float(x)/100)\n",
    "sat_2018.Participation = sat_2018.Participation.map(lambda x : float(x)/100)"
   ]
  },
  {
   "cell_type": "code",
   "execution_count": 18,
   "metadata": {},
   "outputs": [
    {
     "name": "stdout",
     "output_type": "stream",
     "text": [
      "State                                  object\n",
      "Participation                         float64\n",
      "Evidence-Based Reading and Writing      int64\n",
      "Math                                    int64\n",
      "Total                                   int64\n",
      "dtype: object\n",
      "State             object\n",
      "Participation    float64\n",
      "English          float64\n",
      "Math             float64\n",
      "Reading          float64\n",
      "Science          float64\n",
      "Composite        float64\n",
      "dtype: object\n"
     ]
    }
   ],
   "source": [
    "#data type\n",
    "print(sat_2018.dtypes)\n",
    "print(act_2018.dtypes)\n"
   ]
  },
  {
   "cell_type": "code",
   "execution_count": 19,
   "metadata": {},
   "outputs": [],
   "source": [
    "#change column names \n",
    "old_sat2018 = list(sat_2018.columns[1:])#exclude the state\n",
    "new_sat2018 = [(i + '_sat_2018') for i in old_sat2018]\n",
    "for i in range(len(old_sat2018)): \n",
    "    sat_2018 = sat_2018.rename(index = str, columns = {old_sat2018[i]:new_sat2018[i]})\n",
    "sat_2018 = sat_2018.rename(str.lower, axis='columns')\n",
    "sat_2018.columns = sat_2018.columns.map(lambda x : x.replace(' ','_'))\n",
    "\n",
    "old_act2018 = list(act_2018.columns[1:])#exclude the state\n",
    "new_act2018 = [(i + '_act_2018') for i in old_act2018]\n",
    "for i in range(len(old_act2018)): \n",
    "    act_2018 = act_2018.rename(index = str, columns = {old_act2018[i]:new_act2018[i]})\n",
    "act_2018 = act_2018.rename(str.lower, axis='columns')"
   ]
  },
  {
   "cell_type": "code",
   "execution_count": 20,
   "metadata": {},
   "outputs": [],
   "source": [
    "#remove extra row\n",
    "act_2018 = act_2018[act_2018.state != 'National']"
   ]
  },
  {
   "cell_type": "code",
   "execution_count": 21,
   "metadata": {},
   "outputs": [],
   "source": [
    "#combine 2018 data\n",
    "combined_2018 = pd.merge(act_2018,sat_2018,how = \"left\",on = \"state\")\n",
    "combined_2018.to_csv('../data/combined_2018.csv')"
   ]
  },
  {
   "cell_type": "markdown",
   "metadata": {},
   "source": [
    "#### Combine your 2017 and 2018 data into a single dataframe\n",
    "Joining on state names should work, assuming you formatted all your state names identically. Make sure none of your columns (other than state) have identical names. Do yourself a favor and decide if you're encoding participation rates as floats or integers and standardize this across your datasets.\n",
    "\n",
    "Save the contents of this merged dataframe as `final.csv`.\n",
    "\n",
    "**Use this combined dataframe for the remainder of the project**."
   ]
  },
  {
   "cell_type": "code",
   "execution_count": 22,
   "metadata": {},
   "outputs": [],
   "source": [
    "final = pd.merge(combined_2017,combined_2018,how = \"left\",on = \"state\")\n",
    "final.to_csv('../data/final.csv')"
   ]
  },
  {
   "cell_type": "markdown",
   "metadata": {},
   "source": [
    "## Exploratory Data Analysis\n",
    "\n",
    "\n",
    "### Summary Statistics\n",
    "Transpose the output of pandas `describe` method to create a quick overview of each numeric feature."
   ]
  },
  {
   "cell_type": "code",
   "execution_count": 23,
   "metadata": {},
   "outputs": [
    {
     "data": {
      "text/html": [
       "<div>\n",
       "<style scoped>\n",
       "    .dataframe tbody tr th:only-of-type {\n",
       "        vertical-align: middle;\n",
       "    }\n",
       "\n",
       "    .dataframe tbody tr th {\n",
       "        vertical-align: top;\n",
       "    }\n",
       "\n",
       "    .dataframe thead th {\n",
       "        text-align: right;\n",
       "    }\n",
       "</style>\n",
       "<table border=\"1\" class=\"dataframe\">\n",
       "  <thead>\n",
       "    <tr style=\"text-align: right;\">\n",
       "      <th></th>\n",
       "      <th>count</th>\n",
       "      <th>mean</th>\n",
       "      <th>std</th>\n",
       "      <th>min</th>\n",
       "      <th>25%</th>\n",
       "      <th>50%</th>\n",
       "      <th>75%</th>\n",
       "      <th>max</th>\n",
       "    </tr>\n",
       "  </thead>\n",
       "  <tbody>\n",
       "    <tr>\n",
       "      <th>participation_act_2017</th>\n",
       "      <td>51.0</td>\n",
       "      <td>0.652549</td>\n",
       "      <td>0.321408</td>\n",
       "      <td>0.08</td>\n",
       "      <td>0.310</td>\n",
       "      <td>0.69</td>\n",
       "      <td>1.000</td>\n",
       "      <td>1.0</td>\n",
       "    </tr>\n",
       "    <tr>\n",
       "      <th>english_act_2017</th>\n",
       "      <td>51.0</td>\n",
       "      <td>20.931373</td>\n",
       "      <td>2.353677</td>\n",
       "      <td>16.30</td>\n",
       "      <td>19.000</td>\n",
       "      <td>20.70</td>\n",
       "      <td>23.300</td>\n",
       "      <td>25.5</td>\n",
       "    </tr>\n",
       "    <tr>\n",
       "      <th>math_act_2017</th>\n",
       "      <td>51.0</td>\n",
       "      <td>21.182353</td>\n",
       "      <td>1.981989</td>\n",
       "      <td>18.00</td>\n",
       "      <td>19.400</td>\n",
       "      <td>20.90</td>\n",
       "      <td>23.100</td>\n",
       "      <td>25.3</td>\n",
       "    </tr>\n",
       "    <tr>\n",
       "      <th>reading_act_2017</th>\n",
       "      <td>51.0</td>\n",
       "      <td>22.013725</td>\n",
       "      <td>2.067271</td>\n",
       "      <td>18.10</td>\n",
       "      <td>20.450</td>\n",
       "      <td>21.80</td>\n",
       "      <td>24.150</td>\n",
       "      <td>26.0</td>\n",
       "    </tr>\n",
       "    <tr>\n",
       "      <th>science_act_2017</th>\n",
       "      <td>51.0</td>\n",
       "      <td>21.450980</td>\n",
       "      <td>1.739353</td>\n",
       "      <td>18.20</td>\n",
       "      <td>19.950</td>\n",
       "      <td>21.30</td>\n",
       "      <td>23.200</td>\n",
       "      <td>24.9</td>\n",
       "    </tr>\n",
       "    <tr>\n",
       "      <th>composite_act_2017</th>\n",
       "      <td>51.0</td>\n",
       "      <td>21.519608</td>\n",
       "      <td>2.020695</td>\n",
       "      <td>17.80</td>\n",
       "      <td>19.800</td>\n",
       "      <td>21.40</td>\n",
       "      <td>23.600</td>\n",
       "      <td>25.5</td>\n",
       "    </tr>\n",
       "    <tr>\n",
       "      <th>participation_sat_2017</th>\n",
       "      <td>51.0</td>\n",
       "      <td>0.398039</td>\n",
       "      <td>0.352766</td>\n",
       "      <td>0.02</td>\n",
       "      <td>0.040</td>\n",
       "      <td>0.38</td>\n",
       "      <td>0.660</td>\n",
       "      <td>1.0</td>\n",
       "    </tr>\n",
       "    <tr>\n",
       "      <th>evidence-based_reading_and_writing_sat_2017</th>\n",
       "      <td>51.0</td>\n",
       "      <td>569.117647</td>\n",
       "      <td>45.666901</td>\n",
       "      <td>482.00</td>\n",
       "      <td>533.500</td>\n",
       "      <td>559.00</td>\n",
       "      <td>613.000</td>\n",
       "      <td>644.0</td>\n",
       "    </tr>\n",
       "    <tr>\n",
       "      <th>math_sat_2017</th>\n",
       "      <td>51.0</td>\n",
       "      <td>556.882353</td>\n",
       "      <td>47.121395</td>\n",
       "      <td>468.00</td>\n",
       "      <td>523.500</td>\n",
       "      <td>548.00</td>\n",
       "      <td>599.000</td>\n",
       "      <td>651.0</td>\n",
       "    </tr>\n",
       "    <tr>\n",
       "      <th>total_sat_2017</th>\n",
       "      <td>51.0</td>\n",
       "      <td>1126.098039</td>\n",
       "      <td>92.494812</td>\n",
       "      <td>950.00</td>\n",
       "      <td>1055.500</td>\n",
       "      <td>1107.00</td>\n",
       "      <td>1212.000</td>\n",
       "      <td>1295.0</td>\n",
       "    </tr>\n",
       "    <tr>\n",
       "      <th>participation_act_2018</th>\n",
       "      <td>51.0</td>\n",
       "      <td>0.616471</td>\n",
       "      <td>0.340810</td>\n",
       "      <td>0.07</td>\n",
       "      <td>0.285</td>\n",
       "      <td>0.66</td>\n",
       "      <td>1.000</td>\n",
       "      <td>1.0</td>\n",
       "    </tr>\n",
       "    <tr>\n",
       "      <th>english_act_2018</th>\n",
       "      <td>51.0</td>\n",
       "      <td>20.988235</td>\n",
       "      <td>2.446356</td>\n",
       "      <td>16.60</td>\n",
       "      <td>19.100</td>\n",
       "      <td>20.20</td>\n",
       "      <td>23.700</td>\n",
       "      <td>26.0</td>\n",
       "    </tr>\n",
       "    <tr>\n",
       "      <th>math_act_2018</th>\n",
       "      <td>51.0</td>\n",
       "      <td>21.125490</td>\n",
       "      <td>2.035765</td>\n",
       "      <td>17.80</td>\n",
       "      <td>19.400</td>\n",
       "      <td>20.70</td>\n",
       "      <td>23.150</td>\n",
       "      <td>25.2</td>\n",
       "    </tr>\n",
       "    <tr>\n",
       "      <th>reading_act_2018</th>\n",
       "      <td>51.0</td>\n",
       "      <td>22.015686</td>\n",
       "      <td>2.167245</td>\n",
       "      <td>18.00</td>\n",
       "      <td>20.450</td>\n",
       "      <td>21.60</td>\n",
       "      <td>24.100</td>\n",
       "      <td>26.1</td>\n",
       "    </tr>\n",
       "    <tr>\n",
       "      <th>science_act_2018</th>\n",
       "      <td>51.0</td>\n",
       "      <td>21.345098</td>\n",
       "      <td>1.870114</td>\n",
       "      <td>17.90</td>\n",
       "      <td>19.850</td>\n",
       "      <td>21.10</td>\n",
       "      <td>23.050</td>\n",
       "      <td>24.9</td>\n",
       "    </tr>\n",
       "    <tr>\n",
       "      <th>composite_act_2018</th>\n",
       "      <td>51.0</td>\n",
       "      <td>21.486275</td>\n",
       "      <td>2.106278</td>\n",
       "      <td>17.70</td>\n",
       "      <td>19.950</td>\n",
       "      <td>21.30</td>\n",
       "      <td>23.550</td>\n",
       "      <td>25.6</td>\n",
       "    </tr>\n",
       "    <tr>\n",
       "      <th>participation_sat_2018</th>\n",
       "      <td>51.0</td>\n",
       "      <td>0.466275</td>\n",
       "      <td>0.380142</td>\n",
       "      <td>0.02</td>\n",
       "      <td>0.045</td>\n",
       "      <td>0.52</td>\n",
       "      <td>0.795</td>\n",
       "      <td>1.0</td>\n",
       "    </tr>\n",
       "    <tr>\n",
       "      <th>evidence-based_reading_and_writing_sat_2018</th>\n",
       "      <td>51.0</td>\n",
       "      <td>566.980392</td>\n",
       "      <td>45.515927</td>\n",
       "      <td>497.00</td>\n",
       "      <td>534.500</td>\n",
       "      <td>552.00</td>\n",
       "      <td>616.500</td>\n",
       "      <td>643.0</td>\n",
       "    </tr>\n",
       "    <tr>\n",
       "      <th>math_sat_2018</th>\n",
       "      <td>51.0</td>\n",
       "      <td>557.039216</td>\n",
       "      <td>49.065654</td>\n",
       "      <td>480.00</td>\n",
       "      <td>520.000</td>\n",
       "      <td>547.00</td>\n",
       "      <td>600.500</td>\n",
       "      <td>655.0</td>\n",
       "    </tr>\n",
       "    <tr>\n",
       "      <th>total_sat_2018</th>\n",
       "      <td>51.0</td>\n",
       "      <td>1124.019608</td>\n",
       "      <td>94.277779</td>\n",
       "      <td>977.00</td>\n",
       "      <td>1057.500</td>\n",
       "      <td>1099.00</td>\n",
       "      <td>1220.000</td>\n",
       "      <td>1298.0</td>\n",
       "    </tr>\n",
       "  </tbody>\n",
       "</table>\n",
       "</div>"
      ],
      "text/plain": [
       "                                             count         mean        std  \\\n",
       "participation_act_2017                        51.0     0.652549   0.321408   \n",
       "english_act_2017                              51.0    20.931373   2.353677   \n",
       "math_act_2017                                 51.0    21.182353   1.981989   \n",
       "reading_act_2017                              51.0    22.013725   2.067271   \n",
       "science_act_2017                              51.0    21.450980   1.739353   \n",
       "composite_act_2017                            51.0    21.519608   2.020695   \n",
       "participation_sat_2017                        51.0     0.398039   0.352766   \n",
       "evidence-based_reading_and_writing_sat_2017   51.0   569.117647  45.666901   \n",
       "math_sat_2017                                 51.0   556.882353  47.121395   \n",
       "total_sat_2017                                51.0  1126.098039  92.494812   \n",
       "participation_act_2018                        51.0     0.616471   0.340810   \n",
       "english_act_2018                              51.0    20.988235   2.446356   \n",
       "math_act_2018                                 51.0    21.125490   2.035765   \n",
       "reading_act_2018                              51.0    22.015686   2.167245   \n",
       "science_act_2018                              51.0    21.345098   1.870114   \n",
       "composite_act_2018                            51.0    21.486275   2.106278   \n",
       "participation_sat_2018                        51.0     0.466275   0.380142   \n",
       "evidence-based_reading_and_writing_sat_2018   51.0   566.980392  45.515927   \n",
       "math_sat_2018                                 51.0   557.039216  49.065654   \n",
       "total_sat_2018                                51.0  1124.019608  94.277779   \n",
       "\n",
       "                                                min       25%      50%  \\\n",
       "participation_act_2017                         0.08     0.310     0.69   \n",
       "english_act_2017                              16.30    19.000    20.70   \n",
       "math_act_2017                                 18.00    19.400    20.90   \n",
       "reading_act_2017                              18.10    20.450    21.80   \n",
       "science_act_2017                              18.20    19.950    21.30   \n",
       "composite_act_2017                            17.80    19.800    21.40   \n",
       "participation_sat_2017                         0.02     0.040     0.38   \n",
       "evidence-based_reading_and_writing_sat_2017  482.00   533.500   559.00   \n",
       "math_sat_2017                                468.00   523.500   548.00   \n",
       "total_sat_2017                               950.00  1055.500  1107.00   \n",
       "participation_act_2018                         0.07     0.285     0.66   \n",
       "english_act_2018                              16.60    19.100    20.20   \n",
       "math_act_2018                                 17.80    19.400    20.70   \n",
       "reading_act_2018                              18.00    20.450    21.60   \n",
       "science_act_2018                              17.90    19.850    21.10   \n",
       "composite_act_2018                            17.70    19.950    21.30   \n",
       "participation_sat_2018                         0.02     0.045     0.52   \n",
       "evidence-based_reading_and_writing_sat_2018  497.00   534.500   552.00   \n",
       "math_sat_2018                                480.00   520.000   547.00   \n",
       "total_sat_2018                               977.00  1057.500  1099.00   \n",
       "\n",
       "                                                  75%     max  \n",
       "participation_act_2017                          1.000     1.0  \n",
       "english_act_2017                               23.300    25.5  \n",
       "math_act_2017                                  23.100    25.3  \n",
       "reading_act_2017                               24.150    26.0  \n",
       "science_act_2017                               23.200    24.9  \n",
       "composite_act_2017                             23.600    25.5  \n",
       "participation_sat_2017                          0.660     1.0  \n",
       "evidence-based_reading_and_writing_sat_2017   613.000   644.0  \n",
       "math_sat_2017                                 599.000   651.0  \n",
       "total_sat_2017                               1212.000  1295.0  \n",
       "participation_act_2018                          1.000     1.0  \n",
       "english_act_2018                               23.700    26.0  \n",
       "math_act_2018                                  23.150    25.2  \n",
       "reading_act_2018                               24.100    26.1  \n",
       "science_act_2018                               23.050    24.9  \n",
       "composite_act_2018                             23.550    25.6  \n",
       "participation_sat_2018                          0.795     1.0  \n",
       "evidence-based_reading_and_writing_sat_2018   616.500   643.0  \n",
       "math_sat_2018                                 600.500   655.0  \n",
       "total_sat_2018                               1220.000  1298.0  "
      ]
     },
     "execution_count": 23,
     "metadata": {},
     "output_type": "execute_result"
    }
   ],
   "source": [
    "overview = final.describe().T\n",
    "overview\n"
   ]
  },
  {
   "cell_type": "markdown",
   "metadata": {},
   "source": [
    "#### Manually calculate standard deviation\n",
    "\n",
    "$$\\sigma = \\sqrt{\\frac{1}{n}\\sum_{i=1}^n(x_i - \\mu)^2}$$\n",
    "\n",
    "- Write a function to calculate standard deviation using the formula above"
   ]
  },
  {
   "cell_type": "code",
   "execution_count": 24,
   "metadata": {},
   "outputs": [
    {
     "name": "stdout",
     "output_type": "stream",
     "text": [
      "48.582237044495976\n",
      "48.582237044495976\n",
      "count     51.000000\n",
      "mean     557.039216\n",
      "std       49.065654\n",
      "min      480.000000\n",
      "25%      520.000000\n",
      "50%      547.000000\n",
      "75%      600.500000\n",
      "max      655.000000\n",
      "Name: math_sat_2018, dtype: float64\n"
     ]
    }
   ],
   "source": [
    "def std1(a):\n",
    "    s = 0\n",
    "    for i in final[a]:\n",
    "        s = np.square(i - overview.loc[a]['mean']) + s\n",
    "    return np.sqrt(s/len(final[a]))\n",
    "print(std1('math_sat_2018'))#using own formula\n",
    "print(np.std(final.math_sat_2018))#numpy standard deviation\n",
    "print(final.math_sat_2018.describe())#panda describe"
   ]
  },
  {
   "cell_type": "markdown",
   "metadata": {},
   "source": [
    "- Use a **dictionary comprehension** to apply your standard deviation function to each numeric column in the dataframe.  **No loops**  \n",
    "- Assign the output to variable `sd` as a dictionary where: \n",
    "    - Each column name is now a key \n",
    "    - That standard deviation of the column is the value \n",
    "     \n",
    "*Example Output :* `{'ACT_Math': 120, 'ACT_Reading': 120, ...}`"
   ]
  },
  {
   "cell_type": "code",
   "execution_count": 25,
   "metadata": {
    "scrolled": true
   },
   "outputs": [],
   "source": [
    "sd = {k:std1(k) for k in overview.index}\n"
   ]
  },
  {
   "cell_type": "markdown",
   "metadata": {},
   "source": [
    "Do your manually calculated standard deviations match up with the output from pandas `describe`? What about numpy's `std` method?"
   ]
  },
  {
   "cell_type": "markdown",
   "metadata": {},
   "source": [
    "Answer: The manually calculated standard deviation is same as using numpy's std. However, the standard deviation from pandas describe is bigger. The reason would be for the function and numpy's std method, they follow population standard deviation equation by default(the sum of square root is divided by n). As for pandas method, it is using sample standard deviation equation which divide the sum of square root by (n-1).\n",
    "\n",
    "If we want to use numpy's std method to calculate sample standard deviation, we can use ddof = 1 in the method. ddof means Delta Degrees of Freedom. The divisor used in calculations is N - ddof, where N represents the number of elements."
   ]
  },
  {
   "cell_type": "markdown",
   "metadata": {},
   "source": [
    "#### Investigate trends in the data\n",
    "Using sorting and/or masking (along with the `.head` method to not print our entire dataframe), consider the following questions:\n",
    "\n",
    "- Which states have the highest and lowest participation rates for the:\n",
    "    - 2017 SAT?\n",
    "    - 2018 SAT?\n",
    "    - 2017 ACT?\n",
    "    - 2018 ACT?\n",
    "- Which states have the highest and lowest mean total/composite scores for the:\n",
    "    - 2017 SAT?\n",
    "    - 2018 SAT?\n",
    "    - 2017 ACT?\n",
    "    - 2018 ACT?\n",
    "- Do any states with 100% participation on a given test have a rate change year-to-year?\n",
    "- Do any states show have >50% participation on *both* tests either year?\n",
    "\n",
    "Based on what you've just observed, have you identified any states that you're especially interested in? **Make a note of these and state *why* you think they're interesting**.\n",
    "\n",
    "**You should comment on your findings at each step in a markdown cell below your code block**. Make sure you include at least one example of sorting your dataframe by a column, and one example of using boolean filtering (i.e., masking) to select a subset of the dataframe."
   ]
  },
  {
   "cell_type": "code",
   "execution_count": 26,
   "metadata": {},
   "outputs": [
    {
     "data": {
      "text/html": [
       "<div>\n",
       "<style scoped>\n",
       "    .dataframe tbody tr th:only-of-type {\n",
       "        vertical-align: middle;\n",
       "    }\n",
       "\n",
       "    .dataframe tbody tr th {\n",
       "        vertical-align: top;\n",
       "    }\n",
       "\n",
       "    .dataframe thead th {\n",
       "        text-align: right;\n",
       "    }\n",
       "</style>\n",
       "<table border=\"1\" class=\"dataframe\">\n",
       "  <thead>\n",
       "    <tr style=\"text-align: right;\">\n",
       "      <th></th>\n",
       "      <th>state</th>\n",
       "      <th>participation_act_2017</th>\n",
       "      <th>english_act_2017</th>\n",
       "      <th>math_act_2017</th>\n",
       "      <th>reading_act_2017</th>\n",
       "      <th>science_act_2017</th>\n",
       "      <th>composite_act_2017</th>\n",
       "      <th>participation_sat_2017</th>\n",
       "      <th>evidence-based_reading_and_writing_sat_2017</th>\n",
       "      <th>math_sat_2017</th>\n",
       "      <th>...</th>\n",
       "      <th>participation_act_2018</th>\n",
       "      <th>english_act_2018</th>\n",
       "      <th>math_act_2018</th>\n",
       "      <th>reading_act_2018</th>\n",
       "      <th>science_act_2018</th>\n",
       "      <th>composite_act_2018</th>\n",
       "      <th>participation_sat_2018</th>\n",
       "      <th>evidence-based_reading_and_writing_sat_2018</th>\n",
       "      <th>math_sat_2018</th>\n",
       "      <th>total_sat_2018</th>\n",
       "    </tr>\n",
       "  </thead>\n",
       "  <tbody>\n",
       "    <tr>\n",
       "      <th>19</th>\n",
       "      <td>Maine</td>\n",
       "      <td>0.08</td>\n",
       "      <td>24.2</td>\n",
       "      <td>24.0</td>\n",
       "      <td>24.8</td>\n",
       "      <td>23.7</td>\n",
       "      <td>24.3</td>\n",
       "      <td>0.95</td>\n",
       "      <td>513</td>\n",
       "      <td>499</td>\n",
       "      <td>...</td>\n",
       "      <td>0.07</td>\n",
       "      <td>23.8</td>\n",
       "      <td>23.6</td>\n",
       "      <td>24.7</td>\n",
       "      <td>23.4</td>\n",
       "      <td>24.0</td>\n",
       "      <td>0.99</td>\n",
       "      <td>512</td>\n",
       "      <td>501</td>\n",
       "      <td>1013</td>\n",
       "    </tr>\n",
       "    <tr>\n",
       "      <th>39</th>\n",
       "      <td>Rhode Island</td>\n",
       "      <td>0.21</td>\n",
       "      <td>24.0</td>\n",
       "      <td>23.3</td>\n",
       "      <td>24.7</td>\n",
       "      <td>23.4</td>\n",
       "      <td>24.0</td>\n",
       "      <td>0.71</td>\n",
       "      <td>539</td>\n",
       "      <td>524</td>\n",
       "      <td>...</td>\n",
       "      <td>0.15</td>\n",
       "      <td>24.4</td>\n",
       "      <td>23.6</td>\n",
       "      <td>25.0</td>\n",
       "      <td>23.5</td>\n",
       "      <td>24.2</td>\n",
       "      <td>0.97</td>\n",
       "      <td>513</td>\n",
       "      <td>505</td>\n",
       "      <td>1018</td>\n",
       "    </tr>\n",
       "    <tr>\n",
       "      <th>29</th>\n",
       "      <td>New Hampshire</td>\n",
       "      <td>0.18</td>\n",
       "      <td>25.4</td>\n",
       "      <td>25.1</td>\n",
       "      <td>26.0</td>\n",
       "      <td>24.9</td>\n",
       "      <td>25.5</td>\n",
       "      <td>0.96</td>\n",
       "      <td>532</td>\n",
       "      <td>520</td>\n",
       "      <td>...</td>\n",
       "      <td>0.16</td>\n",
       "      <td>25.1</td>\n",
       "      <td>24.7</td>\n",
       "      <td>25.6</td>\n",
       "      <td>24.4</td>\n",
       "      <td>25.1</td>\n",
       "      <td>0.96</td>\n",
       "      <td>535</td>\n",
       "      <td>528</td>\n",
       "      <td>1063</td>\n",
       "    </tr>\n",
       "    <tr>\n",
       "      <th>7</th>\n",
       "      <td>Delaware</td>\n",
       "      <td>0.18</td>\n",
       "      <td>24.1</td>\n",
       "      <td>23.4</td>\n",
       "      <td>24.8</td>\n",
       "      <td>23.6</td>\n",
       "      <td>24.1</td>\n",
       "      <td>1.00</td>\n",
       "      <td>503</td>\n",
       "      <td>492</td>\n",
       "      <td>...</td>\n",
       "      <td>0.17</td>\n",
       "      <td>23.7</td>\n",
       "      <td>23.1</td>\n",
       "      <td>24.5</td>\n",
       "      <td>23.4</td>\n",
       "      <td>23.2</td>\n",
       "      <td>1.00</td>\n",
       "      <td>505</td>\n",
       "      <td>492</td>\n",
       "      <td>998</td>\n",
       "    </tr>\n",
       "    <tr>\n",
       "      <th>38</th>\n",
       "      <td>Pennsylvania</td>\n",
       "      <td>0.23</td>\n",
       "      <td>23.4</td>\n",
       "      <td>23.4</td>\n",
       "      <td>24.2</td>\n",
       "      <td>23.3</td>\n",
       "      <td>23.7</td>\n",
       "      <td>0.65</td>\n",
       "      <td>540</td>\n",
       "      <td>531</td>\n",
       "      <td>...</td>\n",
       "      <td>0.20</td>\n",
       "      <td>23.3</td>\n",
       "      <td>23.2</td>\n",
       "      <td>24.0</td>\n",
       "      <td>23.1</td>\n",
       "      <td>23.5</td>\n",
       "      <td>0.70</td>\n",
       "      <td>547</td>\n",
       "      <td>539</td>\n",
       "      <td>1086</td>\n",
       "    </tr>\n",
       "  </tbody>\n",
       "</table>\n",
       "<p>5 rows × 21 columns</p>\n",
       "</div>"
      ],
      "text/plain": [
       "            state  participation_act_2017  english_act_2017  math_act_2017  \\\n",
       "19          Maine                    0.08              24.2           24.0   \n",
       "39   Rhode Island                    0.21              24.0           23.3   \n",
       "29  New Hampshire                    0.18              25.4           25.1   \n",
       "7        Delaware                    0.18              24.1           23.4   \n",
       "38   Pennsylvania                    0.23              23.4           23.4   \n",
       "\n",
       "    reading_act_2017  science_act_2017  composite_act_2017  \\\n",
       "19              24.8              23.7                24.3   \n",
       "39              24.7              23.4                24.0   \n",
       "29              26.0              24.9                25.5   \n",
       "7               24.8              23.6                24.1   \n",
       "38              24.2              23.3                23.7   \n",
       "\n",
       "    participation_sat_2017  evidence-based_reading_and_writing_sat_2017  \\\n",
       "19                    0.95                                          513   \n",
       "39                    0.71                                          539   \n",
       "29                    0.96                                          532   \n",
       "7                     1.00                                          503   \n",
       "38                    0.65                                          540   \n",
       "\n",
       "    math_sat_2017  ...  participation_act_2018  english_act_2018  \\\n",
       "19            499  ...                    0.07              23.8   \n",
       "39            524  ...                    0.15              24.4   \n",
       "29            520  ...                    0.16              25.1   \n",
       "7             492  ...                    0.17              23.7   \n",
       "38            531  ...                    0.20              23.3   \n",
       "\n",
       "    math_act_2018  reading_act_2018  science_act_2018  composite_act_2018  \\\n",
       "19           23.6              24.7              23.4                24.0   \n",
       "39           23.6              25.0              23.5                24.2   \n",
       "29           24.7              25.6              24.4                25.1   \n",
       "7            23.1              24.5              23.4                23.2   \n",
       "38           23.2              24.0              23.1                23.5   \n",
       "\n",
       "    participation_sat_2018  evidence-based_reading_and_writing_sat_2018  \\\n",
       "19                    0.99                                          512   \n",
       "39                    0.97                                          513   \n",
       "29                    0.96                                          535   \n",
       "7                     1.00                                          505   \n",
       "38                    0.70                                          547   \n",
       "\n",
       "    math_sat_2018  total_sat_2018  \n",
       "19            501            1013  \n",
       "39            505            1018  \n",
       "29            528            1063  \n",
       "7             492             998  \n",
       "38            539            1086  \n",
       "\n",
       "[5 rows x 21 columns]"
      ]
     },
     "execution_count": 26,
     "metadata": {},
     "output_type": "execute_result"
    }
   ],
   "source": [
    "#the highest participation rates for SAT\n",
    "final.sort_values(by = 'participation_sat_2017',ascending = False).head() \n",
    "#District of Columbia, Michigan, Connecticut and Delaware have the highest participation rate 1.00 for SAT 2017\n",
    "final.sort_values(by = 'participation_sat_2018',ascending = False).head(10)\n",
    "#Colorado, Connecticu, Delaware, Michigan and Idaho have the highest participation rate 1.00 for SAT 2018\n",
    "\n",
    "#the lowest participation rates for SAT\n",
    "final.sort_values(by = 'participation_sat_2017',ascending = True).head() \n",
    "#North Dakota, Mississippi and Iowa have the lowest participation rate 0.02 for SAT 2017\n",
    "final.sort_values(by = 'participation_sat_2018',ascending = True).head()\n",
    "#North Dakota has the lowest partocipation rate 0.02 for SAT 2018\n",
    "\n",
    "#the highest participation rates for ACT\n",
    "final.sort_values(by = 'participation_act_2017',ascending = False).head(20)\n",
    "hpr_act2017 = list(final[final.participation_act_2017 == 1.00]['state'])\n",
    "#17 states have the highest participation rate 1.00 for ACT 2017 are printed\n",
    "final.sort_values(by = 'participation_act_2018',ascending = False).head(20)\n",
    "hpr_act2018 = list(final[final.participation_act_2018 == 1.00]['state'])\n",
    "#17 states have the highest participation rate 1.00 for ACT 2018 are printed\n",
    "\n",
    "#the lowest participation rates for ACT\n",
    "final.sort_values(by = 'participation_act_2017',ascending = True).head() \n",
    "#Maine has the lowest participation rate 0.08 for ACT 2017\n",
    "final.sort_values(by = 'participation_act_2018',ascending = True).head()\n",
    "#Maine has the lowest participation rate 0.07 for ACT 2018"
   ]
  },
  {
   "cell_type": "markdown",
   "metadata": {},
   "source": [
    "|Feature|Year|State|Score|\n",
    "|---|---|---|---|\n",
    "|highest rate for SAT|2017|District of Columbia, Michigan, Connecticut and Delaware|1.00|\n",
    "|highest rate for SAT|2018|Colorado, Connecticu, Delaware, Michigan and Idaho|1.00|\n",
    "|lowest rate for SAT|2017|North Dakota, Mississippi and Iowa|0.02|\n",
    "|lowest rate for SAT|2018|North Dakota|0.02|\n",
    "|highest rate for ACT|2017|Alabama, Arkansas, Colorado, Kentucky, Louisiana, Minnesota, Mississippi, Missouri, Montana, Nevada, North Carolina, Oklahoma, South Carolina, Tennessee, Utah, Wisconsin and Wyoming|1.00|\n",
    "|highest rate for ACT|2018|Alabama, Arkansas, Kentucky, Louisiana, Mississippi, Missouri, Montana, Nebraska, Nevada, North Carolina, Ohio, Oklahoma, South Carolina, Tennessee, Utah, Wisconsin and Wyoming|1.00|\n",
    "|lowest rate for ACT|2017|Maine|0.08|\n",
    "|lowest rate for ACT|2018|Maine|0.07|"
   ]
  },
  {
   "cell_type": "markdown",
   "metadata": {},
   "source": [
    "The number of states with 100% participationt rates for ACT is larger than for SAT.\n",
    "The lowest ACT participation rates  are higher than the lowest SAT participation rates both years."
   ]
  },
  {
   "cell_type": "code",
   "execution_count": 27,
   "metadata": {},
   "outputs": [
    {
     "data": {
      "text/html": [
       "<div>\n",
       "<style scoped>\n",
       "    .dataframe tbody tr th:only-of-type {\n",
       "        vertical-align: middle;\n",
       "    }\n",
       "\n",
       "    .dataframe tbody tr th {\n",
       "        vertical-align: top;\n",
       "    }\n",
       "\n",
       "    .dataframe thead th {\n",
       "        text-align: right;\n",
       "    }\n",
       "</style>\n",
       "<table border=\"1\" class=\"dataframe\">\n",
       "  <thead>\n",
       "    <tr style=\"text-align: right;\">\n",
       "      <th></th>\n",
       "      <th>state</th>\n",
       "      <th>total_sat_2017</th>\n",
       "      <th>total_sat_2018</th>\n",
       "      <th>composite_act_2017</th>\n",
       "      <th>composite_act_2018</th>\n",
       "    </tr>\n",
       "  </thead>\n",
       "  <tbody>\n",
       "    <tr>\n",
       "      <th>6</th>\n",
       "      <td>Connecticut</td>\n",
       "      <td>1041</td>\n",
       "      <td>1053</td>\n",
       "      <td>25.2</td>\n",
       "      <td>25.6</td>\n",
       "    </tr>\n",
       "    <tr>\n",
       "      <th>8</th>\n",
       "      <td>District of Columbia</td>\n",
       "      <td>950</td>\n",
       "      <td>977</td>\n",
       "      <td>24.2</td>\n",
       "      <td>23.6</td>\n",
       "    </tr>\n",
       "    <tr>\n",
       "      <th>23</th>\n",
       "      <td>Minnesota</td>\n",
       "      <td>1295</td>\n",
       "      <td>1298</td>\n",
       "      <td>21.5</td>\n",
       "      <td>21.3</td>\n",
       "    </tr>\n",
       "    <tr>\n",
       "      <th>28</th>\n",
       "      <td>Nevada</td>\n",
       "      <td>1116</td>\n",
       "      <td>1140</td>\n",
       "      <td>17.8</td>\n",
       "      <td>17.7</td>\n",
       "    </tr>\n",
       "    <tr>\n",
       "      <th>29</th>\n",
       "      <td>New Hampshire</td>\n",
       "      <td>1052</td>\n",
       "      <td>1063</td>\n",
       "      <td>25.5</td>\n",
       "      <td>25.1</td>\n",
       "    </tr>\n",
       "  </tbody>\n",
       "</table>\n",
       "</div>"
      ],
      "text/plain": [
       "                   state  total_sat_2017  total_sat_2018  composite_act_2017  \\\n",
       "6            Connecticut            1041            1053                25.2   \n",
       "8   District of Columbia             950             977                24.2   \n",
       "23             Minnesota            1295            1298                21.5   \n",
       "28                Nevada            1116            1140                17.8   \n",
       "29         New Hampshire            1052            1063                25.5   \n",
       "\n",
       "    composite_act_2018  \n",
       "6                 25.6  \n",
       "8                 23.6  \n",
       "23                21.3  \n",
       "28                17.7  \n",
       "29                25.1  "
      ]
     },
     "execution_count": 27,
     "metadata": {},
     "output_type": "execute_result"
    }
   ],
   "source": [
    "#the highest mean total for SAT\n",
    "final.sort_values(by = 'total_sat_2017',ascending = False)[['state','total_sat_2017']].head()\n",
    "#Minnesota has the highest total 1295 for SAT 2017\n",
    "final.sort_values(by = 'total_sat_2018',ascending = False)[['state','total_sat_2018']].head()\n",
    "#Minnesota has the highest total 1298 for SAT 2018\n",
    "\n",
    "#the lowest mean total for SAT \n",
    "final.sort_values(by = 'total_sat_2017',ascending = True)[['state','total_sat_2017']].head()\n",
    "#District of Columbia has the lowest total 950 for SAT 2017\n",
    "final.sort_values(by = 'total_sat_2018',ascending = True)[['state','total_sat_2018']].head()\n",
    "#District of Columbia has the lowest total 977 for SAT 2018\n",
    "\n",
    "#the highest mean composite for ACT\n",
    "final.sort_values(by = 'composite_act_2017',ascending = False)[['state','composite_act_2017']].head()\n",
    "#New Hampshire has the highest composite 25.5 for ACT 2017\n",
    "final.sort_values(by = 'composite_act_2018',ascending = False)[['state','composite_act_2018']].head()\n",
    "#Connecticut has the highest composite 25.6 for ACT 2018\n",
    "\n",
    "#the lowest mean composite for ACT\n",
    "final.sort_values(by = 'composite_act_2017',ascending = True)[['state','composite_act_2017']].head()\n",
    "#Nevada has the lowest composite 17.8 for ACT 2017\n",
    "final.sort_values(by = 'composite_act_2018',ascending = True)[['state','composite_act_2018']].head()\n",
    "#Nevada has the lowest composite 17.7 for ACT 2018\n",
    "\n",
    "final.loc[final.state.isin(['Minnesota','District of Columbia','New Hampshire','Connecticut','Nevada'])]\\\n",
    "[['state','total_sat_2017','total_sat_2018','composite_act_2017','composite_act_2018']]"
   ]
  },
  {
   "cell_type": "markdown",
   "metadata": {},
   "source": [
    "|Feature|Year|State|Score|\n",
    "|---|---|---|---|\n",
    "|highest mean total score for SAT|2017|Minnesota|1295|\n",
    "|highest mean total score for SAT|2018|Minnesota|1298|\n",
    "|lowest mean total score for SAT|2017|District of Columbia|950|\n",
    "|lowest mean total score for SAT|2018|District of Columbia|977|\n",
    "|highest mean composite score for ACT|2017|New Hampshire|25.5|\n",
    "|highest mean composite score for ACT|2018|Connecticut|25.6|\n",
    "|lowest mean composite score for ACT|2017|Nevada|17.8|\n",
    "|lowest mean composite score for ACT|2017|Nevada|17.7|"
   ]
  },
  {
   "cell_type": "code",
   "execution_count": 28,
   "metadata": {},
   "outputs": [
    {
     "name": "stdout",
     "output_type": "stream",
     "text": [
      "100% participation for SAT: {'Connecticut', 'Michigan', 'Delaware'}\n",
      "100% participation for ACT: {'Utah', 'Wisconsin', 'North Carolina', 'Tennessee', 'Missouri', 'Oklahoma', 'Wyoming', 'South Carolina', 'Mississippi', 'Nevada', 'Kentucky', 'Montana', 'Alabama', 'Arkansas', 'Louisiana'}\n"
     ]
    }
   ],
   "source": [
    "#100% participation for SAT\n",
    "hpr_sat2017 = list(final[final.participation_sat_2017 == 1.00]['state'])\n",
    "hpr_sat2018 = list(final[final.participation_sat_2018 == 1.00]['state'])\n",
    "print('100% participation for SAT:',set(hpr_sat2017).intersection(hpr_sat2018))\n",
    "\n",
    "#100% participation for ACT\n",
    "print('100% participation for ACT:',set(hpr_act2017).intersection(hpr_act2018))\n"
   ]
  },
  {
   "cell_type": "markdown",
   "metadata": {},
   "source": [
    "For SAT, 3 states have 100% participation rates for both years.\n",
    "For ACT, 15 states have 100% participation rates for both years"
   ]
  },
  {
   "cell_type": "code",
   "execution_count": 29,
   "metadata": {},
   "outputs": [
    {
     "name": "stdout",
     "output_type": "stream",
     "text": [
      "50% participation rates for both tests in 2017: {'Hawaii', 'Georgia', 'Florida'}\n",
      "50% participation rates for both tests in 2018: {'Florida', 'South Carolina', 'Hawaii', 'Georgia', 'North Carolina'}\n"
     ]
    },
    {
     "data": {
      "text/html": [
       "<div>\n",
       "<style scoped>\n",
       "    .dataframe tbody tr th:only-of-type {\n",
       "        vertical-align: middle;\n",
       "    }\n",
       "\n",
       "    .dataframe tbody tr th {\n",
       "        vertical-align: top;\n",
       "    }\n",
       "\n",
       "    .dataframe thead th {\n",
       "        text-align: right;\n",
       "    }\n",
       "</style>\n",
       "<table border=\"1\" class=\"dataframe\">\n",
       "  <thead>\n",
       "    <tr style=\"text-align: right;\">\n",
       "      <th></th>\n",
       "      <th>state</th>\n",
       "      <th>participation_sat_2017</th>\n",
       "      <th>participation_sat_2018</th>\n",
       "      <th>participation_act_2017</th>\n",
       "      <th>participation_act_2018</th>\n",
       "    </tr>\n",
       "  </thead>\n",
       "  <tbody>\n",
       "    <tr>\n",
       "      <th>33</th>\n",
       "      <td>North Carolina</td>\n",
       "      <td>0.49</td>\n",
       "      <td>0.52</td>\n",
       "      <td>1.0</td>\n",
       "      <td>1.0</td>\n",
       "    </tr>\n",
       "    <tr>\n",
       "      <th>40</th>\n",
       "      <td>South Carolina</td>\n",
       "      <td>0.50</td>\n",
       "      <td>0.55</td>\n",
       "      <td>1.0</td>\n",
       "      <td>1.0</td>\n",
       "    </tr>\n",
       "  </tbody>\n",
       "</table>\n",
       "</div>"
      ],
      "text/plain": [
       "             state  participation_sat_2017  participation_sat_2018  \\\n",
       "33  North Carolina                    0.49                    0.52   \n",
       "40  South Carolina                    0.50                    0.55   \n",
       "\n",
       "    participation_act_2017  participation_act_2018  \n",
       "33                     1.0                     1.0  \n",
       "40                     1.0                     1.0  "
      ]
     },
     "execution_count": 29,
     "metadata": {},
     "output_type": "execute_result"
    }
   ],
   "source": [
    "#50% participation for both tests\n",
    "fiftyp_sat2017 = list(final[final.participation_sat_2017 > 0.50]['state'])\n",
    "fiftyp_act2017 = list(final[final.participation_act_2017 > 0.50]['state'])\n",
    "fiftyp_2017 = set(fiftyp_sat2017).intersection(fiftyp_act2017)\n",
    "\n",
    "fiftyp_sat2018 = list(final[final.participation_sat_2018 > 0.50]['state'])\n",
    "fiftyp_act2018 = list(final[final.participation_act_2018 > 0.50]['state'])\n",
    "fiftyp_2018 = set(fiftyp_sat2018).intersection(fiftyp_act2018)\n",
    "\n",
    "\n",
    "print('50% participation rates for both tests in 2017:',fiftyp_2017)\n",
    "print('50% participation rates for both tests in 2018:',fiftyp_2018)\n",
    "final.loc[final['state'].isin(['South Carolina', 'North Carolina'])]\\\n",
    "[['state','participation_sat_2017','participation_sat_2018','participation_act_2017','participation_act_2018']]"
   ]
  },
  {
   "cell_type": "markdown",
   "metadata": {},
   "source": [
    "The SAT 2017 paticipaiton rates for North Carolina and South Carolina were increased."
   ]
  },
  {
   "cell_type": "markdown",
   "metadata": {},
   "source": [
    "## Visualize the data\n",
    "\n",
    "There's not a magic bullet recommendation for the right number of plots to understand a given dataset, but visualizing your data is *always* a good idea. Not only does it allow you to quickly convey your findings (even if you have a non-technical audience), it will often reveal trends in your data that escaped you when you were looking only at numbers.\n",
    "\n",
    "Some recommendations on plotting:\n",
    "- Plots have titles\n",
    "- Plots have axis labels\n",
    "- Plots have appropriate tick labels\n",
    "- All text is legible in a plot\n",
    "- Plots demonstrate meaningful and valid relationships\n",
    "- Plots are interpreted to aid understanding\n",
    "\n",
    "There is such a thing as too many plots, and there are a *lot* of bad plots. You might make some! (But hopefully not with the guided prompts below)."
   ]
  },
  {
   "cell_type": "markdown",
   "metadata": {},
   "source": [
    "#### Use Seaborn's heatmap with pandas `.corr()` to visualize correlations between all numeric features\n",
    "\n",
    "Heatmaps are generally not appropriate for presentations, and should often be excluded from reports as they can be visually overwhelming. **However**, they can be extremely useful in identify relationships of potential interest (as well as identifying potential collinearity before modeling).\n",
    "\n",
    "*example*:\n",
    "```python\n",
    "sns.heatmap(df.corr())\n",
    "```\n",
    "\n",
    "Please take time to format your output, adding a title. Look through some of the additional arguments and options. (Axis labels aren't really necessary, as long as the title is informative)."
   ]
  },
  {
   "cell_type": "code",
   "execution_count": 30,
   "metadata": {},
   "outputs": [
    {
     "data": {
      "text/plain": [
       "Text(0.5, 0.98, 'Correlations between all features')"
      ]
     },
     "execution_count": 30,
     "metadata": {},
     "output_type": "execute_result"
    },
    {
     "data": {
      "image/png": "[encoded data removed]",
      "text/plain": [
       "<Figure size 576x576 with 2 Axes>"
      ]
     },
     "metadata": {
      "needs_background": "light"
     },
     "output_type": "display_data"
    }
   ],
   "source": [
    "final.corr()\n",
    "\n",
    "plt.figure(figsize=(8,8))\n",
    "sns.heatmap(final.corr())\n",
    "plt.suptitle('Correlations between all features',size = 20)"
   ]
  },
  {
   "cell_type": "markdown",
   "metadata": {},
   "source": [
    "#### Define a custom function to subplot histograms\n",
    "\n",
    "We have data for two tests for two years. We only have composite (and not subtest scores) for the 2018 ACT. We should write a function that will take the names of 2+ columns and subplot histograms. While you can use pandas plotting or Seaborn here, matplotlib gives you greater control over all aspects of your plots.\n",
    "\n",
    "[Helpful Link for Plotting Multiple Figures](https://matplotlib.org/users/pyplot_tutorial.html#working-with-multiple-figures-and-axes)\n",
    "\n",
    "Here's some starter code:"
   ]
  },
  {
   "cell_type": "code",
   "execution_count": 31,
   "metadata": {},
   "outputs": [],
   "source": [
    "def subplot_histograms(dataframe, list_of_columns, list_of_titles, list_of_xlabels):\n",
    "    nrows = int(np.ceil(len(list_of_columns)/2)) # Makes sure you have enough rows\n",
    "    fig, ax = plt.subplots(nrows=nrows, ncols=2,figsize=(15,8)) # You'll want to specify your figsize\n",
    "    ax = ax.ravel() # Ravel turns a matrix into a vector, which is easier to iterate\n",
    "    for i, column in enumerate(list_of_columns): # Gives us an index value to get into all our lists\n",
    "        # feel free to add more settings\n",
    "        ax[i].set_xlabel(list_of_xlabels[i])\n",
    "        ax[i].set_title(list_of_titles[i])\n",
    "        plt.subplots_adjust(wspace = 0.5,hspace = 0.5)\n",
    "        ax[i].hist(dataframe[column]) \n",
    "        # Set titles, labels, etc here for each subplot"
   ]
  },
  {
   "cell_type": "markdown",
   "metadata": {},
   "source": [
    "#### Plot and interpret histograms \n",
    "For each of the following:\n",
    "- Participation rates for SAT & ACT\n",
    "- Math scores for SAT & ACT\n",
    "- Reading/verbal scores for SAT & ACT"
   ]
  },
  {
   "cell_type": "code",
   "execution_count": 32,
   "metadata": {},
   "outputs": [
    {
     "data": {
      "image/png": "[encoded data removed]",
      "text/plain": [
       "<Figure size 1080x576 with 4 Axes>"
      ]
     },
     "metadata": {
      "needs_background": "light"
     },
     "output_type": "display_data"
    }
   ],
   "source": [
    "# Participation rates for SAT & ACT\n",
    "subplot_histograms(final,['participation_act_2017','participation_act_2018','participation_sat_2017',\n",
    "                          'participation_sat_2018'],['Participation rates of ACT 2017',\n",
    "                          'Participation rates of ACT 2018','Participation rates of SAT 2017',\n",
    "                          'Participation rates of SAT 2018'],4*['Participation rate'])"
   ]
  },
  {
   "cell_type": "markdown",
   "metadata": {},
   "source": [
    "Most of states have 90%-100% participation rates for ACT.\n",
    "Most of states have 0-10% participation rates for SAT. \n",
    "Based on the shape of plots, the participation rates for both tests are not likely to be normally distributed."
   ]
  },
  {
   "cell_type": "code",
   "execution_count": 33,
   "metadata": {},
   "outputs": [
    {
     "data": {
      "image/png": "[encoded data removed]",
      "text/plain": [
       "<Figure size 1080x576 with 4 Axes>"
      ]
     },
     "metadata": {
      "needs_background": "light"
     },
     "output_type": "display_data"
    }
   ],
   "source": [
    "#Math scores for SAT & ACT\n",
    "subplot_histograms(final,['math_act_2017','math_act_2018','math_sat_2017',\n",
    "                          'math_sat_2018'],['Math Scores for ACT 2017',\n",
    "                          'Mean Math Scores of ACT 2018','Mean Math Scores of SAT 2017',\n",
    "                          'Mean Math Scores of SAT 2018'],4*['score'])"
   ]
  },
  {
   "cell_type": "markdown",
   "metadata": {},
   "source": [
    "The plots for ACT math scores are look like bimodal distribution, especially for 2018.The graphs for SAT are more bell-shaped compare to ACT's. "
   ]
  },
  {
   "cell_type": "code",
   "execution_count": 34,
   "metadata": {},
   "outputs": [
    {
     "data": {
      "image/png": "[encoded data removed]",
      "text/plain": [
       "<Figure size 1080x576 with 4 Axes>"
      ]
     },
     "metadata": {
      "needs_background": "light"
     },
     "output_type": "display_data"
    }
   ],
   "source": [
    "#Reading/verbal scores for SAT & ACT\n",
    "subplot_histograms(final,['reading_act_2017','reading_act_2018','evidence-based_reading_and_writing_sat_2017',\n",
    "                          'evidence-based_reading_and_writing_sat_2018'],['Mean Reading Scores of ACT 2017',\n",
    "                          'Mean Reading Scores of ACT 2018','Mean Evidence-based Reading & Writing Scores of SAT 2017',\n",
    "                          'Mean Evidence-based Reading & Writing Scores of SAT 2018'],4*['score'])"
   ]
  },
  {
   "cell_type": "markdown",
   "metadata": {},
   "source": [
    "The graphs for ACT are more bell-shaped compare to SAT's.\n",
    "Both histograms for SAT show two different modes in the range of 530-540 and 630-640."
   ]
  },
  {
   "cell_type": "markdown",
   "metadata": {},
   "source": [
    "#### Plot and interpret scatter plots\n",
    "\n",
    "For each of the following:\n",
    "- SAT vs. ACT math scores for 2017\n",
    "- SAT vs. ACT verbal/reading scores for 2017\n",
    "- SAT vs. ACT total/composite scores for 2017\n",
    "- Total scores for SAT 2017 vs. 2018\n",
    "- Composite scores for ACT 2017 vs. 2018\n",
    "\n",
    "Plot the two variables against each other using matplotlib or Seaborn\n",
    "\n",
    "Your plots should show:\n",
    "- Two clearly labeled axes\n",
    "- A proper title\n",
    "- Using colors and symbols that are clear and unmistakable\n",
    "\n",
    "**Feel free to write a custom function, and subplot if you'd like.** Functions save both time and space.\n"
   ]
  },
  {
   "cell_type": "code",
   "execution_count": 35,
   "metadata": {},
   "outputs": [
    {
     "data": {
      "text/plain": [
       "Text(0.5, 1.0, 'SAT vs. ACT math scores for 2017')"
      ]
     },
     "execution_count": 35,
     "metadata": {},
     "output_type": "execute_result"
    },
    {
     "data": {
      "image/png": "[encoded data removed]",
      "text/plain": [
       "<Figure size 432x288 with 1 Axes>"
      ]
     },
     "metadata": {},
     "output_type": "display_data"
    }
   ],
   "source": [
    "plt.style.use('seaborn-whitegrid')\n",
    "# SAT vs. ACT math scores for 2017\n",
    "plt.scatter(final.math_sat_2017,final.math_act_2017)\n",
    "plt.xlabel('Math Scores for SAT 2017',size = 15)\n",
    "plt.ylabel('Math Scores for ACT 2017',size = 15)\n",
    "plt.title('SAT vs. ACT math scores for 2017',size = 20)"
   ]
  },
  {
   "cell_type": "markdown",
   "metadata": {},
   "source": [
    "From the scatterplot, we can observe a week negative correlation between SAT and ACT math scores for 2017."
   ]
  },
  {
   "cell_type": "code",
   "execution_count": 36,
   "metadata": {},
   "outputs": [
    {
     "data": {
      "text/plain": [
       "Text(0.5, 1.0, 'SAT vs. ACT verbal/reading scores for 2017')"
      ]
     },
     "execution_count": 36,
     "metadata": {},
     "output_type": "execute_result"
    },
    {
     "data": {
      "image/png": "[encoded data removed]",
      "text/plain": [
       "<Figure size 432x288 with 1 Axes>"
      ]
     },
     "metadata": {},
     "output_type": "display_data"
    }
   ],
   "source": [
    "#SAT vs. ACT verbal/reading scores for 2017\n",
    "plt.style.use('seaborn-whitegrid')\n",
    "plt.scatter(final['evidence-based_reading_and_writing_sat_2017'],final.reading_act_2017)\n",
    "plt.xlabel('Reading Scores for SAT 2017',size = 15)\n",
    "plt.ylabel('Reading Scores for ACT 2017',size = 15)\n",
    "plt.title('SAT vs. ACT verbal/reading scores for 2017',size = 20)"
   ]
  },
  {
   "cell_type": "markdown",
   "metadata": {},
   "source": [
    "From the scatterplot, we can observe a week negative correlation between SAT and ACT verbel/reading scores for 2017."
   ]
  },
  {
   "cell_type": "code",
   "execution_count": 37,
   "metadata": {},
   "outputs": [
    {
     "data": {
      "text/plain": [
       "Text(0.5, 1.0, 'SAT vs. ACT total/composite scores for 2017')"
      ]
     },
     "execution_count": 37,
     "metadata": {},
     "output_type": "execute_result"
    },
    {
     "data": {
      "image/png": "[encoded data removed]",
      "text/plain": [
       "<Figure size 432x288 with 1 Axes>"
      ]
     },
     "metadata": {},
     "output_type": "display_data"
    }
   ],
   "source": [
    "#SAT vs. ACT total/composite scores for 2017\n",
    "plt.style.use('seaborn-whitegrid')\n",
    "plt.scatter(final.total_sat_2017,final.composite_act_2017)\n",
    "plt.xlabel('Total Scores for SAT 2017',size = 15)\n",
    "plt.ylabel('Compoiste Scores for ACT 2017',size = 15)\n",
    "plt.title('SAT vs. ACT total/composite scores for 2017',size = 20)"
   ]
  },
  {
   "cell_type": "markdown",
   "metadata": {},
   "source": [
    "From the scatterplot, we can observe a week negative correlation between SAT and ACT total/composite scores for 2017."
   ]
  },
  {
   "cell_type": "code",
   "execution_count": 38,
   "metadata": {},
   "outputs": [
    {
     "data": {
      "text/plain": [
       "Text(0.5, 1.0, 'Total scores for SAT 2017 vs. 2018')"
      ]
     },
     "execution_count": 38,
     "metadata": {},
     "output_type": "execute_result"
    },
    {
     "data": {
      "image/png": "[encoded data removed]",
      "text/plain": [
       "<Figure size 432x288 with 1 Axes>"
      ]
     },
     "metadata": {},
     "output_type": "display_data"
    }
   ],
   "source": [
    "#Total scores for SAT 2017 vs. 2018\n",
    "plt.style.use('seaborn-whitegrid')\n",
    "plt.scatter(final.total_sat_2017,final.total_sat_2018)\n",
    "plt.xlabel('Total Scores for SAT 2017',size = 15)\n",
    "plt.ylabel('Total Scores for SAT 2017',size = 15)\n",
    "plt.title('Total scores for SAT 2017 vs. 2018',size = 20)"
   ]
  },
  {
   "cell_type": "markdown",
   "metadata": {},
   "source": [
    "From the scatterplot, we can observe a strong positive correlation between total scores for SAT 2017 and 2018."
   ]
  },
  {
   "cell_type": "code",
   "execution_count": 39,
   "metadata": {},
   "outputs": [
    {
     "data": {
      "text/plain": [
       "Text(0.5, 1.0, 'Composite scores for ACT 2017 vs. 2018')"
      ]
     },
     "execution_count": 39,
     "metadata": {},
     "output_type": "execute_result"
    },
    {
     "data": {
      "image/png": "[encoded data removed]",
      "text/plain": [
       "<Figure size 432x288 with 1 Axes>"
      ]
     },
     "metadata": {},
     "output_type": "display_data"
    }
   ],
   "source": [
    "#Composite scores for ACT 2017 vs. 2018\n",
    "plt.style.use('seaborn-whitegrid')\n",
    "plt.scatter(final.composite_act_2017,final.composite_act_2018)\n",
    "plt.xlabel('Composite Scores for act 2017',size = 15)\n",
    "plt.ylabel('Composite Scores for act 2018',size = 15)\n",
    "plt.title('Composite scores for ACT 2017 vs. 2018',size = 20)"
   ]
  },
  {
   "cell_type": "markdown",
   "metadata": {},
   "source": [
    "From the scatterplot, we can observe a strong positive correlation between composite scores for ACT 2017 and 2018."
   ]
  },
  {
   "cell_type": "markdown",
   "metadata": {},
   "source": [
    "#### Plot and interpret boxplots\n",
    "\n",
    "For each numeric variable in the dataframe create a boxplot using Seaborn. Boxplots demonstrate central tendency and spread in variables. In a certain sense, these are somewhat redundant with histograms, but you may be better able to identify clear outliers or differences in IQR, etc.\n",
    "\n",
    "Multiple values can be plotted to a single boxplot as long as they are of the same relative scale (meaning they have similar min/max values).\n",
    "\n",
    "Each boxplot should:\n",
    "- Only include variables of a similar scale\n",
    "- Have clear labels for each variable\n",
    "- Have appropriate titles and labels"
   ]
  },
  {
   "cell_type": "code",
   "execution_count": 40,
   "metadata": {
    "scrolled": true
   },
   "outputs": [
    {
     "data": {
      "text/plain": [
       "Text(0.5, 1.0, 'Scores for ACT 2018')"
      ]
     },
     "execution_count": 40,
     "metadata": {},
     "output_type": "execute_result"
    },
    {
     "data": {
      "image/png": "[encoded data removed]",
      "text/plain": [
       "<Figure size 1152x360 with 2 Axes>"
      ]
     },
     "metadata": {},
     "output_type": "display_data"
    }
   ],
   "source": [
    "# boxplots for ACT scores \n",
    "fig, ax = plt.subplots(nrows = 1, ncols = 2,figsize=(16,5))\n",
    "sns.boxplot(data = final[final.columns[2:7]],ax=ax[0]).set_title('Scores for ACT 2017',size = 15)\n",
    "sns.boxplot(data = final[final.columns[12:17]],ax = ax[1]).set_title('Scores for ACT 2018',size = 15)\n"
   ]
  },
  {
   "cell_type": "markdown",
   "metadata": {},
   "source": [
    "No outlier.\n",
    "The boxplots for reading scores are higher than other, and plots for english scores are taller."
   ]
  },
  {
   "cell_type": "code",
   "execution_count": 41,
   "metadata": {},
   "outputs": [
    {
     "data": {
      "text/plain": [
       "Text(0.5, 1.0, 'Total scores for SAT')"
      ]
     },
     "execution_count": 41,
     "metadata": {},
     "output_type": "execute_result"
    },
    {
     "data": {
      "image/png": "[encoded data removed]",
      "text/plain": [
       "<Figure size 1152x360 with 3 Axes>"
      ]
     },
     "metadata": {},
     "output_type": "display_data"
    }
   ],
   "source": [
    "# boxplots for SAT scores \n",
    "fig, ax = plt.subplots(nrows = 1, ncols = 3,figsize=(16,5))\n",
    "sns.boxplot(data = final[['evidence-based_reading_and_writing_sat_2017',\n",
    "                          'evidence-based_reading_and_writing_sat_2018']],ax=ax[0]).set_title('reading & writing scores for SAT',size = 15)\n",
    "sns.boxplot(data = final[[\"math_sat_2017\",\"math_sat_2018\"]],ax = ax[1]).set_title('Math scores for SAT',size = 15)\n",
    "sns.boxplot(data = final[[\"total_sat_2017\",\"total_sat_2018\"]],ax = ax[2]).set_title('Total scores for SAT',size = 15)"
   ]
  },
  {
   "cell_type": "markdown",
   "metadata": {},
   "source": [
    "No outlier.\n",
    "Compare all the histogram between two years, the minimum scores for both reading and math for 2017 is lower than 2018. \n",
    "And the histograms of math scores are taller than reading & writing scores. It suggests states have more different math scores."
   ]
  },
  {
   "cell_type": "code",
   "execution_count": 42,
   "metadata": {},
   "outputs": [
    {
     "data": {
      "text/plain": [
       "Text(0.5, 1.0, 'Participation rate for SAT')"
      ]
     },
     "execution_count": 42,
     "metadata": {},
     "output_type": "execute_result"
    },
    {
     "data": {
      "image/png": "[encoded data removed]",
      "text/plain": [
       "<Figure size 720x360 with 2 Axes>"
      ]
     },
     "metadata": {},
     "output_type": "display_data"
    }
   ],
   "source": [
    "# boxplots for participation rate \n",
    "\n",
    "fig, ax = plt.subplots(nrows = 1, ncols = 2,figsize=(10,5))\n",
    "sns.boxplot(data = final[['participation_act_2017','participation_act_2018']],ax=ax[0]).set_title('Participation rate for ACT',size = 15)\n",
    "sns.boxplot(data = final[['participation_sat_2017','participation_sat_2018']],ax = ax[1]).set_title('Participation rate for SAT',size = 15)"
   ]
  },
  {
   "cell_type": "markdown",
   "metadata": {},
   "source": [
    "No outlier.\n",
    "Most of states have 100% participation rate for ACT, while many stats have participation rates around 0%.\n",
    "The median of SAT participation rates are lower than ACT."
   ]
  },
  {
   "cell_type": "markdown",
   "metadata": {},
   "source": [
    "#### Feel free to do additional plots below\n",
    "*(do research and choose your own chart types & variables)*\n",
    "\n",
    "Are there any additional trends or relationships you haven't explored? Was there something interesting you saw that you'd like to dive further into? It's likely that there are a few more plots you might want to generate to support your narrative and recommendations that you are building toward. **As always, make sure you're interpreting your plots as you go**."
   ]
  },
  {
   "cell_type": "code",
   "execution_count": 43,
   "metadata": {},
   "outputs": [
    {
     "data": {
      "text/plain": [
       "Text(0.5, 0.98, 'Participation rates vs composite/total scores')"
      ]
     },
     "execution_count": 43,
     "metadata": {},
     "output_type": "execute_result"
    },
    {
     "data": {
      "image/png": "[encoded data removed]",
      "text/plain": [
       "<Figure size 720x576 with 4 Axes>"
      ]
     },
     "metadata": {},
     "output_type": "display_data"
    }
   ],
   "source": [
    "#discover the correlation between participation rate and total/composite score using scattring plots\n",
    "fig, ax = plt.subplots(nrows = 2, ncols = 2,figsize=(10,8))\n",
    "\n",
    "ax[0][0].scatter(final.composite_act_2017,final.participation_act_2017)\n",
    "ax[0][0].set_xlabel('composite for ACT 2017',size = 10)\n",
    "ax[0][1].scatter(final.composite_act_2018,final.participation_act_2018)\n",
    "ax[0][1].set_xlabel('composite for ACT 2018',size = 10)\n",
    "ax[1][0].scatter(final.total_sat_2017,final.participation_sat_2017)\n",
    "ax[1][0].set_xlabel('total score for SAT 2017',size = 10)\n",
    "ax[1][1].scatter(final.total_sat_2018,final.participation_sat_2018)\n",
    "ax[1][1].set_xlabel('total score for SAT 2018',size = 10)\n",
    "plt.suptitle('Participation rates vs composite/total scores',size = 15)\n"
   ]
  },
  {
   "cell_type": "markdown",
   "metadata": {},
   "source": [
    "From the scatterplots, we can dicover a moderate negetive correlation between participation rate and composite/total scores. In other words, states have lower participation rated tend to have higher total/composite scores for test.\n",
    "\n",
    "This is because raw scores are confounded with participation rates. For example, the best SAT students in any state tend to be the most aggressive about wanting to take the test.\n",
    "\n",
    "Therefore, if a state’s SAT participation is low, the state will only have the best students taking it, making the score artificially high. Likewise, if a state requires the SAT, it will have 100% participation but also include the worst SAT takers, making the score artificially low.  \n"
   ]
  },
  {
   "cell_type": "markdown",
   "metadata": {},
   "source": [
    "#### (Optional): Using Tableau, create a choropleth map for each variable using a map of the US. \n",
    "\n",
    "Save this plot as an image file in an images directory, provide a relative path, and insert the image into notebook in markdown."
   ]
  },
  {
   "cell_type": "code",
   "execution_count": null,
   "metadata": {},
   "outputs": [],
   "source": []
  },
  {
   "cell_type": "markdown",
   "metadata": {},
   "source": [
    "## Descriptive and Inferential Statistics"
   ]
  },
  {
   "cell_type": "markdown",
   "metadata": {},
   "source": [
    "#### Summarizing Distributions\n",
    "\n",
    "Above, we used pandas `describe` to provide quick summary statistics of our numeric columns. We also demonstrated many visual relationships.\n",
    "\n",
    "As data scientists, having a complete understanding of data is imperative prior to modeling.\n",
    "\n",
    "While we will continue to build our analytic tools, we know that measures of *central tendency*, *spread*, and *shape/skewness* provide a quick summary of distributions.\n",
    "\n",
    "For each variable in your data, summarize the underlying distributions (in words & statistics)\n",
    " - Be thorough in your verbal description of these distributions.\n",
    " - Be sure to back up these summaries with statistics."
   ]
  },
  {
   "cell_type": "code",
   "execution_count": 44,
   "metadata": {},
   "outputs": [
    {
     "data": {
      "text/html": [
       "<div>\n",
       "<style scoped>\n",
       "    .dataframe tbody tr th:only-of-type {\n",
       "        vertical-align: middle;\n",
       "    }\n",
       "\n",
       "    .dataframe tbody tr th {\n",
       "        vertical-align: top;\n",
       "    }\n",
       "\n",
       "    .dataframe thead th {\n",
       "        text-align: right;\n",
       "    }\n",
       "</style>\n",
       "<table border=\"1\" class=\"dataframe\">\n",
       "  <thead>\n",
       "    <tr style=\"text-align: right;\">\n",
       "      <th></th>\n",
       "      <th>mean</th>\n",
       "      <th>50%</th>\n",
       "      <th>75%</th>\n",
       "      <th>max</th>\n",
       "    </tr>\n",
       "  </thead>\n",
       "  <tbody>\n",
       "    <tr>\n",
       "      <th>participation_act_2017</th>\n",
       "      <td>0.652549</td>\n",
       "      <td>0.69</td>\n",
       "      <td>1.000</td>\n",
       "      <td>1.0</td>\n",
       "    </tr>\n",
       "    <tr>\n",
       "      <th>english_act_2017</th>\n",
       "      <td>20.931373</td>\n",
       "      <td>20.70</td>\n",
       "      <td>23.300</td>\n",
       "      <td>25.5</td>\n",
       "    </tr>\n",
       "    <tr>\n",
       "      <th>math_act_2017</th>\n",
       "      <td>21.182353</td>\n",
       "      <td>20.90</td>\n",
       "      <td>23.100</td>\n",
       "      <td>25.3</td>\n",
       "    </tr>\n",
       "    <tr>\n",
       "      <th>reading_act_2017</th>\n",
       "      <td>22.013725</td>\n",
       "      <td>21.80</td>\n",
       "      <td>24.150</td>\n",
       "      <td>26.0</td>\n",
       "    </tr>\n",
       "    <tr>\n",
       "      <th>science_act_2017</th>\n",
       "      <td>21.450980</td>\n",
       "      <td>21.30</td>\n",
       "      <td>23.200</td>\n",
       "      <td>24.9</td>\n",
       "    </tr>\n",
       "    <tr>\n",
       "      <th>composite_act_2017</th>\n",
       "      <td>21.519608</td>\n",
       "      <td>21.40</td>\n",
       "      <td>23.600</td>\n",
       "      <td>25.5</td>\n",
       "    </tr>\n",
       "    <tr>\n",
       "      <th>participation_sat_2017</th>\n",
       "      <td>0.398039</td>\n",
       "      <td>0.38</td>\n",
       "      <td>0.660</td>\n",
       "      <td>1.0</td>\n",
       "    </tr>\n",
       "    <tr>\n",
       "      <th>evidence-based_reading_and_writing_sat_2017</th>\n",
       "      <td>569.117647</td>\n",
       "      <td>559.00</td>\n",
       "      <td>613.000</td>\n",
       "      <td>644.0</td>\n",
       "    </tr>\n",
       "    <tr>\n",
       "      <th>math_sat_2017</th>\n",
       "      <td>556.882353</td>\n",
       "      <td>548.00</td>\n",
       "      <td>599.000</td>\n",
       "      <td>651.0</td>\n",
       "    </tr>\n",
       "    <tr>\n",
       "      <th>total_sat_2017</th>\n",
       "      <td>1126.098039</td>\n",
       "      <td>1107.00</td>\n",
       "      <td>1212.000</td>\n",
       "      <td>1295.0</td>\n",
       "    </tr>\n",
       "    <tr>\n",
       "      <th>participation_act_2018</th>\n",
       "      <td>0.616471</td>\n",
       "      <td>0.66</td>\n",
       "      <td>1.000</td>\n",
       "      <td>1.0</td>\n",
       "    </tr>\n",
       "    <tr>\n",
       "      <th>english_act_2018</th>\n",
       "      <td>20.988235</td>\n",
       "      <td>20.20</td>\n",
       "      <td>23.700</td>\n",
       "      <td>26.0</td>\n",
       "    </tr>\n",
       "    <tr>\n",
       "      <th>math_act_2018</th>\n",
       "      <td>21.125490</td>\n",
       "      <td>20.70</td>\n",
       "      <td>23.150</td>\n",
       "      <td>25.2</td>\n",
       "    </tr>\n",
       "    <tr>\n",
       "      <th>reading_act_2018</th>\n",
       "      <td>22.015686</td>\n",
       "      <td>21.60</td>\n",
       "      <td>24.100</td>\n",
       "      <td>26.1</td>\n",
       "    </tr>\n",
       "    <tr>\n",
       "      <th>science_act_2018</th>\n",
       "      <td>21.345098</td>\n",
       "      <td>21.10</td>\n",
       "      <td>23.050</td>\n",
       "      <td>24.9</td>\n",
       "    </tr>\n",
       "    <tr>\n",
       "      <th>composite_act_2018</th>\n",
       "      <td>21.486275</td>\n",
       "      <td>21.30</td>\n",
       "      <td>23.550</td>\n",
       "      <td>25.6</td>\n",
       "    </tr>\n",
       "    <tr>\n",
       "      <th>participation_sat_2018</th>\n",
       "      <td>0.466275</td>\n",
       "      <td>0.52</td>\n",
       "      <td>0.795</td>\n",
       "      <td>1.0</td>\n",
       "    </tr>\n",
       "    <tr>\n",
       "      <th>evidence-based_reading_and_writing_sat_2018</th>\n",
       "      <td>566.980392</td>\n",
       "      <td>552.00</td>\n",
       "      <td>616.500</td>\n",
       "      <td>643.0</td>\n",
       "    </tr>\n",
       "    <tr>\n",
       "      <th>math_sat_2018</th>\n",
       "      <td>557.039216</td>\n",
       "      <td>547.00</td>\n",
       "      <td>600.500</td>\n",
       "      <td>655.0</td>\n",
       "    </tr>\n",
       "    <tr>\n",
       "      <th>total_sat_2018</th>\n",
       "      <td>1124.019608</td>\n",
       "      <td>1099.00</td>\n",
       "      <td>1220.000</td>\n",
       "      <td>1298.0</td>\n",
       "    </tr>\n",
       "  </tbody>\n",
       "</table>\n",
       "</div>"
      ],
      "text/plain": [
       "                                                    mean      50%       75%  \\\n",
       "participation_act_2017                          0.652549     0.69     1.000   \n",
       "english_act_2017                               20.931373    20.70    23.300   \n",
       "math_act_2017                                  21.182353    20.90    23.100   \n",
       "reading_act_2017                               22.013725    21.80    24.150   \n",
       "science_act_2017                               21.450980    21.30    23.200   \n",
       "composite_act_2017                             21.519608    21.40    23.600   \n",
       "participation_sat_2017                          0.398039     0.38     0.660   \n",
       "evidence-based_reading_and_writing_sat_2017   569.117647   559.00   613.000   \n",
       "math_sat_2017                                 556.882353   548.00   599.000   \n",
       "total_sat_2017                               1126.098039  1107.00  1212.000   \n",
       "participation_act_2018                          0.616471     0.66     1.000   \n",
       "english_act_2018                               20.988235    20.20    23.700   \n",
       "math_act_2018                                  21.125490    20.70    23.150   \n",
       "reading_act_2018                               22.015686    21.60    24.100   \n",
       "science_act_2018                               21.345098    21.10    23.050   \n",
       "composite_act_2018                             21.486275    21.30    23.550   \n",
       "participation_sat_2018                          0.466275     0.52     0.795   \n",
       "evidence-based_reading_and_writing_sat_2018   566.980392   552.00   616.500   \n",
       "math_sat_2018                                 557.039216   547.00   600.500   \n",
       "total_sat_2018                               1124.019608  1099.00  1220.000   \n",
       "\n",
       "                                                max  \n",
       "participation_act_2017                          1.0  \n",
       "english_act_2017                               25.5  \n",
       "math_act_2017                                  25.3  \n",
       "reading_act_2017                               26.0  \n",
       "science_act_2017                               24.9  \n",
       "composite_act_2017                             25.5  \n",
       "participation_sat_2017                          1.0  \n",
       "evidence-based_reading_and_writing_sat_2017   644.0  \n",
       "math_sat_2017                                 651.0  \n",
       "total_sat_2017                               1295.0  \n",
       "participation_act_2018                          1.0  \n",
       "english_act_2018                               26.0  \n",
       "math_act_2018                                  25.2  \n",
       "reading_act_2018                               26.1  \n",
       "science_act_2018                               24.9  \n",
       "composite_act_2018                             25.6  \n",
       "participation_sat_2018                          1.0  \n",
       "evidence-based_reading_and_writing_sat_2018   643.0  \n",
       "math_sat_2018                                 655.0  \n",
       "total_sat_2018                               1298.0  "
      ]
     },
     "execution_count": 44,
     "metadata": {},
     "output_type": "execute_result"
    }
   ],
   "source": [
    "final.describe().T[['mean','50%','75%','max']]"
   ]
  },
  {
   "cell_type": "code",
   "execution_count": 45,
   "metadata": {},
   "outputs": [
    {
     "name": "stdout",
     "output_type": "stream",
     "text": [
      "Statistics=0.840, p=0.0000069784\n",
      "Sample is not normally distributed\n",
      "Statistics=0.826, p=0.0000030171\n",
      "Sample is not normally distributed\n"
     ]
    }
   ],
   "source": [
    "from scipy.stats import shapiro\n",
    "#nomality test for 2017\n",
    "stat, p = shapiro(final.participation_act_2017)\n",
    "print('Statistics=%.3f, p=%.10f' % (stat, p))\n",
    "alpha = 0.05\n",
    "if p > alpha:\n",
    "    print('Sample is normally distributed')\n",
    "else:\n",
    "    print('Sample is not normally distributed')\n",
    "    \n",
    "#nomality test for 2018\n",
    "stat, p = shapiro(final.participation_act_2018)\n",
    "print('Statistics=%.3f, p=%.10f' % (stat, p))\n",
    "alpha = 0.05\n",
    "if p > alpha:\n",
    "    print('Sample is normally distributed')\n",
    "else:\n",
    "    print('Sample is not normally distributed')"
   ]
  },
  {
   "cell_type": "markdown",
   "metadata": {},
   "source": [
    "Answers: From the table above, we find out the means and medians for most of variables are close, so they are not skewed. And we can assume them to be normally distributed. \n",
    "However, the ACT participation rates for many stats are 1.00. We run normality tests and conclude the samples are not normally distributed."
   ]
  },
  {
   "cell_type": "markdown",
   "metadata": {},
   "source": [
    "#### We generally assuming that data we sample from a population will be normally distributed. Do we observe this trend?"
   ]
  },
  {
   "cell_type": "markdown",
   "metadata": {},
   "source": [
    "Answer: Yes, most samples are normally distributed. However, some samples like participation rates for act and sat are not normally distributed."
   ]
  },
  {
   "cell_type": "markdown",
   "metadata": {},
   "source": [
    "Does This Assumption Hold for:\n",
    "    - Math\n",
    "    - Reading\n",
    "    - Rates\n",
    "Explain your answers for each distribution and how you think this will affect estimates made from these data."
   ]
  },
  {
   "cell_type": "markdown",
   "metadata": {},
   "source": [
    "Answer: From histograms for Math, Reading and Participation rates above, we can see the plots for sat math and act reading are more bell-shaped compare to others, so the distributions are more normal. For sat reading and act math, histograms show two modes. So we may increase the datasize to get better estimations for population. As for participation rates, the sat plot has mode around 0.0 and act plot has mode 1.0. Also base on the normality test, the p-value is very small and we conclude the samples are not normally distributed. "
   ]
  },
  {
   "cell_type": "markdown",
   "metadata": {},
   "source": [
    "#### Estimate Limits of Data\n",
    "\n",
    "Suppose we only seek to understand the relationship between SAT and ACT participation rates in 2017. \n",
    "\n",
    "##### Does it make sense to conduct statistical inference given these data specifically? \n",
    "\n",
    "Why or why not?\n",
    "\n",
    "*(think about granularity, aggregation, the relationships between populations size & rates...consider the actually populations these data describe in answering this question)*"
   ]
  },
  {
   "cell_type": "markdown",
   "metadata": {},
   "source": [
    "Answer: It does not make sense to conduct statistical inference as this data set does not capture the individual test score of the states. If we do a comparison based on this set, all states are given equal weightages, which is incorrecrt because they have very different populations."
   ]
  },
  {
   "cell_type": "markdown",
   "metadata": {},
   "source": [
    "##### Is it appropriate to compare *these* specific SAT and ACT math scores? \n",
    "\n",
    "Why or why not?"
   ]
  },
  {
   "cell_type": "markdown",
   "metadata": {},
   "source": [
    "Answer: No. \n",
    "For most of states, the values for participation rates for SAT and ACT are very different. And only about 10 states' sum of two test participation rates greater than 110, it means the number of students that take both tests are not large. In other words, the intersection of two samples are not that much. Moreover, it could be the reason why there is an unexpected weak correlation between SAT and ACT math.\n",
    "Since the samples for SAT and ACT are different in each state, it is not appropriate to compare these specific SAT and ACT math scores."
   ]
  },
  {
   "cell_type": "markdown",
   "metadata": {},
   "source": [
    "#### Statistical Evaluation of Distributions \n",
    "\n",
    "**If you feel it's appropriate**, using methods we discussed in class, run hypothesis tests to compare variables of interest in our dataset. "
   ]
  },
  {
   "cell_type": "code",
   "execution_count": null,
   "metadata": {},
   "outputs": [],
   "source": []
  },
  {
   "cell_type": "markdown",
   "metadata": {},
   "source": [
    "## Outside Research"
   ]
  },
  {
   "cell_type": "markdown",
   "metadata": {},
   "source": [
    "Based upon your observations, choose **three** states that demonstrate interesting trends in their SAT and/or ACT participation rates. Spend some time doing outside research on state policies that might influence these rates, and summarize your findings below. **Feel free to go back and create new plots that highlight these states of interest**. If you bring in any outside tables or charts, make sure you are explicit about having borrowed them. If you quote any text, make sure that it renders as being quoted. (Make sure that you cite your sources -- check with you local instructor for citation preferences)."
   ]
  },
  {
   "cell_type": "markdown",
   "metadata": {},
   "source": [
    "\n",
    "From 2017 to 2018, Illinois's ACT participation rates is decreased by 0.5, but SAT participation rate is increased by 0.9. So overall, it has a highest growth rate 0.4 on participating tests. In fact, Illinois had a new contatct in the end of 2016 with college board and decided to bring SAT to public high schools. The reason of changing from ACT to SAT is they thought SAT was better aligned with standards for what students should know in Illinois. Also, Illinois covered the cost of the SAT for all their public school students, which leads to a big increase on participation rate for college entrance exam.\n",
    "\n",
    "Besides Illinois, Colorado also has a decrease on ACT participation rates(-0.7) and an increase on SAT(+0.89). However, the overall paticipation rate is increased by 0.19. The data suggest that a large amount of graduating seniors take SAT instead of ACT. Same as Illinois, Colorado also has a new contract with SAT. But because the original overall participation rate is higher compare to Illinois, there is no significant growth on overall rate.\n",
    "\n",
    "Base on the boxplots of participation rate, we can observe a small decrese on ACT participation rate and an increase on SAT participation. Overall, the 2018 test participation rates for most states are higher than 2017. However, it is not happened in Alaska. In 2018, the ACT participation rate is drop from 0.65 to 0.33, and the SAT rate is only increased by 0.05. Based on Graduation and Dropout Rates in Alaska Fact sheet, a valid score on a College and Career Ready Assessment (CCRA) was removed as a graduation requirement on June 30, 2016. It means students are able to get diploma without attending any test. "
   ]
  },
  {
   "cell_type": "markdown",
   "metadata": {},
   "source": [
    "## Conclusions and Recommendations"
   ]
  },
  {
   "cell_type": "markdown",
   "metadata": {},
   "source": [
    "Based on your exploration of the data, what are your key takeaways and recommendations? Choose one state with a lower participation rate and provide a suggestion for how the College Board might increase participation amongst graduating seniors in this state. Are there additional data you desire that would better inform your investigations?"
   ]
  },
  {
   "cell_type": "markdown",
   "metadata": {},
   "source": [
    "Based on your exploration of the data,  overall the participation rats for ACT are higher than SAT. However, for some of states, the participation rates for SAT is increased from 2017 to 2018. \n",
    "\n",
    "A big predictor of ACT/SAT participation rates is whether a college entrance exam is mandated by the state. And whether SATs are preferred over ACTs or vice versa depends on whether (1) it is recommended by the state, as in the case of Illinois or (2) there is sponsorship of the fees, as in the case of Colorado, Connecticut, Delaware, Idaho, Illinois, Maine, Michigan, New Hampshire, Rhode Island, and West Virginia.\n",
    "\n",
    "In the case of North Dakota, it has 98% participation rate for ACT but the lowest rate for SAT. The College Board could negotiate a new contract with North Dakota government and make SAT free for high school graduating student. \n"
   ]
  },
  {
   "cell_type": "markdown",
   "metadata": {},
   "source": [
    "## Data Source"
   ]
  },
  {
   "cell_type": "markdown",
   "metadata": {},
   "source": [
    "https://www.edweek.org/ew/articles/2018/10/31/sat-scores-rise-as-number-of-test-takers.html\n",
    "https://blog.prepscholar.com/average-sat-and-act-scores-by-stated-adjusted-for-participation-rate\n",
    "https://www.chicagotribune.com/news/ct-illinois-chooses-sat-met-20160211-story.html"
   ]
  }
 ],
 "metadata": {
  "anaconda-cloud": {},
  "kernelspec": {
   "display_name": "Python 3",
   "language": "python",
   "name": "python3"
  },
  "language_info": {
   "codemirror_mode": {
    "name": "ipython",
    "version": 3
   },
   "file_extension": ".py",
   "mimetype": "text/x-python",
   "name": "python",
   "nbconvert_exporter": "python",
   "pygments_lexer": "ipython3",
   "version": "3.7.3"
  }
 },
 "nbformat": 4,
 "nbformat_minor": 2
}
