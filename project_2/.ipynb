{
 "cells": [
  {
   "cell_type": "code",
   "execution_count": 2,
   "metadata": {},
   "outputs": [],
   "source": [
    "import pandas as pd\n",
    "import numpy as np\n",
    "import scipy\n",
    "import sklearn\n",
    "from sklearn.model_selection import train_test_split, cross_val_score, GridSearchCV\n",
    "\n",
    "from sklearn.preprocessing import StandardScaler, PolynomialFeatures\n",
    "import seaborn as sns\n",
    "import matplotlib.pyplot as plt\n",
    "from sklearn.linear_model import Ridge, Lasso, ElasticNet, LinearRegression, RidgeCV, LassoCV, ElasticNetCV\n",
    "\n",
    "from sklearn import metrics\n",
    "\n",
    "%matplotlib inline"
   ]
  },
  {
   "cell_type": "code",
   "execution_count": 6,
   "metadata": {},
   "outputs": [],
   "source": [
    "test = pd.read_csv('datasets/test.csv')"
   ]
  },
  {
   "cell_type": "code",
   "execution_count": 12,
   "metadata": {},
   "outputs": [],
   "source": [
    "#Id is just a observation number, so we are going to exclude it.\n",
    "test = test.loc[:,test.columns != 'Id']\n",
    "#Separate numerical and categorical data\n",
    "numerical_test= test.select_dtypes(exclude=['object'])\n",
    "categorical_test= test.select_dtypes('object')\n"
   ]
  },
  {
   "cell_type": "code",
   "execution_count": 8,
   "metadata": {},
   "outputs": [],
   "source": [
    "#change ordinal features to numerical\n",
    "ord_features = ['Lot Shape','Utilities','Land Slope','Exter Qual','Exter Cond','Bsmt Qual', 'Bsmt Cond', \n",
    "                'Bsmt Exposure','BsmtFin Type 1', 'BsmtFin Type 2','Heating QC','Electrical', 'Kitchen Qual',\n",
    "                'Functional','Fireplace Qu','Garage Finish', 'Garage Qual','Garage Cond', 'Paved Drive', 'Pool QC', \n",
    "                'Fence']"
   ]
  },
  {
   "cell_type": "code",
   "execution_count": 9,
   "metadata": {},
   "outputs": [],
   "source": [
    "#change ordinal features to numerical\n",
    "test['Lot Shape'].replace({'Reg':1, 'IR1':2, 'IR2':3, 'IR3':4}, inplace=True)\n",
    "test['Utilities'].replace({'AllPub':1, 'NoSewr':2, 'NoSeWa':3, 'ELO':4}, inplace=True)\n",
    "test['Land Slope'].replace({'Gtl':1, 'Mod':2, 'Sev':3}, inplace=True)\n",
    "test['Exter Qual'].replace({'Ex':1, 'Gd':2, 'TA':3, 'Fa':4, 'Po':5}, inplace=True)\n",
    "test['Exter Cond'].replace({'Ex':1, 'Gd':2, 'TA':3, 'Fa':4, 'Po':5}, inplace=True)\n",
    "test['Bsmt Qual'].replace({'Ex':1, 'Gd':2, 'TA':3, 'Fa':4, 'Po':5, 'NA':6}, inplace=True)\n",
    "test['Bsmt Cond'].replace({'Ex':1, 'Gd':2, 'TA':3, 'Fa':4, 'Po':5, 'NA':6}, inplace=True)\n",
    "test['Bsmt Exposure'].replace({'Gd':1, 'Av':2, 'Mn':3, 'No':4, 'NA':5}, inplace=True)\n",
    "test['BsmtFin Type 1'].replace({'GLQ':1, 'ALQ':2, 'BLQ':3, 'Rec':4, 'LwQ':5, 'Unf':6, 'NA':7}, inplace=True)\n",
    "test['BsmtFin Type 2'].replace({'GLQ':1, 'ALQ':2, 'BLQ':3, 'Rec':4, 'LwQ':5, 'Unf':6, 'NA':7}, inplace=True)\n",
    "test['Heating QC'].replace({'Ex':1, 'Gd':2, 'TA':3, 'Fa':4, 'Po':5}, inplace=True)\n",
    "test['Electrical'].replace({'SBrkr':1, 'FuseA':2, 'FuseF':3, 'FuseP':4, 'Mix':5}, inplace=True)\n",
    "test['Kitchen Qual'].replace({'Ex':1, 'Gd':2, 'TA':3, 'Fa':4, 'Po':5, 'NA':6}, inplace=True)\n",
    "test['Functional'].replace({'Typ':1, 'Min1':2, 'Min2':3, 'Mod':4, 'Maj1':5, 'Maj2':6, 'Sev':7, 'Sal':8},\n",
    "                            inplace=True)\n",
    "test['Fireplace Qu'].replace({'Ex':1, 'Gd':2, 'TA':3, 'Fa':4, 'Po':5, 'NA':6}, inplace=True)\n",
    "test['Garage Finish'].replace({'Fin':1, 'RFn':2, 'Unf':3, 'NA':4}, inplace=True)\n",
    "test['Garage Qual'].replace({'Ex':1, 'Gd':2, 'TA':3, 'Fa':4, 'Po':5, 'NA':6}, inplace=True)\n",
    "test['Garage Cond'].replace({'Ex':1, 'Gd':2, 'TA':3, 'Fa':4, 'Po':5, 'NA':6}, inplace=True)\n",
    "test['Garage Qual'].replace({'Ex':1, 'Gd':2, 'TA':3, 'Fa':4, 'Po':5, 'NA':6}, inplace=True)\n",
    "test['Paved Drive'].replace({'Y':1, 'P':2, 'N':3}, inplace=True)\n",
    "test['Pool QC'].replace({'Ex':1, 'Gd':2, 'TA':3, 'Fa':4, 'NA':5}, inplace=True)\n",
    "test['Fence'].replace({'GdPrv':1, 'MnPrv':2, 'GdWo':3, 'MnWw':4, 'NA':5}, inplace=True)\n",
    "\n",
    "#fill in 0 for missing values\n",
    "train[ord_features] = train[ord_features].fillna(0)\n"
   ]
  },
  {
   "cell_type": "code",
   "execution_count": 14,
   "metadata": {},
   "outputs": [],
   "source": [
    "#form a new numreical features\n",
    "numerical_feature_test = list(numerical_test.columns) + ord_features"
   ]
  },
  {
   "cell_type": "code",
   "execution_count": 15,
   "metadata": {},
   "outputs": [],
   "source": [
    "nom_features = np.setdiff1d(list(categorical_test.columns), ord_features)"
   ]
  },
  {
   "cell_type": "code",
   "execution_count": 16,
   "metadata": {
    "scrolled": true
   },
   "outputs": [
    {
     "data": {
      "text/plain": [
       "Alley           0\n",
       "Bldg Type       0\n",
       "Central Air     0\n",
       "Condition 1     0\n",
       "Condition 2     0\n",
       "Exterior 1st    0\n",
       "Exterior 2nd    0\n",
       "Foundation      0\n",
       "Garage Type     0\n",
       "Heating         0\n",
       "House Style     0\n",
       "Land Contour    0\n",
       "Lot Config      0\n",
       "MS Zoning       0\n",
       "Mas Vnr Type    0\n",
       "Misc Feature    0\n",
       "Neighborhood    0\n",
       "Roof Matl       0\n",
       "Roof Style      0\n",
       "Sale Type       0\n",
       "Street          0\n",
       "dtype: int64"
      ]
     },
     "execution_count": 16,
     "metadata": {},
     "output_type": "execute_result"
    }
   ],
   "source": [
    "# fill in None for nominal categorical features\n",
    "test[nom_features] = test[nom_features].fillna('None')\n",
    "test[nom_features].isnull().sum()"
   ]
  },
  {
   "cell_type": "code",
   "execution_count": 17,
   "metadata": {
    "scrolled": true
   },
   "outputs": [
    {
     "data": {
      "text/plain": [
       "PID                  0\n",
       "MS SubClass          0\n",
       "Lot Frontage       160\n",
       "Lot Area             0\n",
       "Lot Shape            0\n",
       "Utilities            0\n",
       "Land Slope           0\n",
       "Overall Qual         0\n",
       "Overall Cond         0\n",
       "Year Built           0\n",
       "Year Remod/Add       0\n",
       "Mas Vnr Area         1\n",
       "Exter Qual           0\n",
       "Exter Cond           0\n",
       "Bsmt Qual            0\n",
       "Bsmt Cond            0\n",
       "Bsmt Exposure        0\n",
       "BsmtFin Type 1       0\n",
       "BsmtFin SF 1         0\n",
       "BsmtFin Type 2       0\n",
       "BsmtFin SF 2         0\n",
       "Bsmt Unf SF          0\n",
       "Total Bsmt SF        0\n",
       "Heating QC           0\n",
       "Electrical           0\n",
       "1st Flr SF           0\n",
       "2nd Flr SF           0\n",
       "Low Qual Fin SF      0\n",
       "Gr Liv Area          0\n",
       "Bsmt Full Bath       0\n",
       "Bsmt Half Bath       0\n",
       "Full Bath            0\n",
       "Half Bath            0\n",
       "Bedroom AbvGr        0\n",
       "Kitchen AbvGr        0\n",
       "Kitchen Qual         0\n",
       "TotRms AbvGrd        0\n",
       "Functional           0\n",
       "Fireplaces           0\n",
       "Fireplace Qu         0\n",
       "Garage Yr Blt       45\n",
       "Garage Finish        0\n",
       "Garage Cars          0\n",
       "Garage Area          0\n",
       "Garage Qual          0\n",
       "Garage Cond          0\n",
       "Paved Drive          0\n",
       "Wood Deck SF         0\n",
       "Open Porch SF        0\n",
       "Enclosed Porch       0\n",
       "3Ssn Porch           0\n",
       "Screen Porch         0\n",
       "Pool Area            0\n",
       "Pool QC              0\n",
       "Fence                0\n",
       "Misc Val             0\n",
       "Mo Sold              0\n",
       "Yr Sold              0\n",
       "dtype: int64"
      ]
     },
     "execution_count": 17,
     "metadata": {},
     "output_type": "execute_result"
    }
   ],
   "source": [
    "#fill in median for numerical features\n",
    "numerical_test.isnull().sum()"
   ]
  },
  {
   "cell_type": "code",
   "execution_count": 18,
   "metadata": {},
   "outputs": [
    {
     "data": {
      "text/plain": [
       "0"
      ]
     },
     "execution_count": 18,
     "metadata": {},
     "output_type": "execute_result"
    }
   ],
   "source": [
    "#Lot Frontage\n",
    "#fill in missing values with median in that neighborhood\n",
    "train['Lot Frontage'] = train.groupby('Neighborhood')['Lot Frontage'].transform(lambda x: x.fillna(x.median()))"
   ]
  },
  {
   "cell_type": "code",
   "execution_count": 20,
   "metadata": {},
   "outputs": [],
   "source": [
    "#Since there are all None, we are going to fill in the missing values with 0\n",
    "test['Mas Vnr Area'] = test['Mas Vnr Area'].fillna(0)"
   ]
  },
  {
   "cell_type": "code",
   "execution_count": 21,
   "metadata": {},
   "outputs": [],
   "source": [
    "test['Garage Yr Blt'] = test['Garage Yr Blt'].fillna(0)"
   ]
  },
  {
   "cell_type": "code",
   "execution_count": 22,
   "metadata": {},
   "outputs": [
    {
     "data": {
      "text/plain": [
       "0"
      ]
     },
     "execution_count": 22,
     "metadata": {},
     "output_type": "execute_result"
    }
   ],
   "source": [
    "test.isnull().sum().sum()"
   ]
  },
  {
   "cell_type": "markdown",
   "metadata": {},
   "source": [
    "## Feature Enginnering "
   ]
  },
  {
   "cell_type": "code",
   "execution_count": 23,
   "metadata": {},
   "outputs": [],
   "source": [
    "#We are going to add some extra features\n",
    "\n",
    "#total area: basement + living area above groud \n",
    "test['Total_Area'] = test['Total Bsmt SF'] + test['Gr Liv Area']\n",
    "\n",
    "#total bathroom\n",
    "test['Total_Bathroom'] = test['Bsmt Full Bath'] + 0.5*test['Bsmt Half Bath'] + test['Full Bath'] \\\n",
    "                                + 0.5*test['Half Bath']\n",
    "#house age\n",
    "test['House_age'] = test['Yr Sold'] - test['Year Built']"
   ]
  },
  {
   "cell_type": "code",
   "execution_count": 24,
   "metadata": {},
   "outputs": [],
   "source": [
    "features = ['Total_Area', 'Overall Qual', 'Exter Qual', 'Kitchen Qual', 'Garage Area', 'Total_Bathroom',\n",
    "           'Year Remod/Add', 'Mas Vnr Area', 'Bsmt Qual', 'Fireplaces','Heating QC', 'Neighborhood', 'Foundation', \n",
    "           'Garage Type','Mas Vnr Type', 'Exterior 1st', 'Exterior 2nd', 'Sale Type', 'MS Zoning']\n",
    "X_t = test[features]\n"
   ]
  },
  {
   "cell_type": "code",
   "execution_count": 25,
   "metadata": {},
   "outputs": [],
   "source": [
    "X_t_with_dummies = pd.get_dummies(X_t, columns=['Neighborhood', 'Foundation', \n",
    "           'Garage Type','Mas Vnr Type', 'Exterior 1st', 'Exterior 2nd', 'Sale Type', 'MS Zoning'], drop_first=True)"
   ]
  },
  {
   "cell_type": "code",
   "execution_count": 26,
   "metadata": {},
   "outputs": [
    {
     "data": {
      "text/plain": [
       "(879, 92)"
      ]
     },
     "execution_count": 26,
     "metadata": {},
     "output_type": "execute_result"
    }
   ],
   "source": [
    "X_t_with_dummies.shape"
   ]
  },
  {
   "cell_type": "code",
   "execution_count": 6,
   "metadata": {},
   "outputs": [],
   "source": [
    "test = pd.read_csv('datasets/test.csv')"
   ]
  },
  {
   "cell_type": "code",
   "execution_count": null,
   "metadata": {},
   "outputs": [],
   "source": [
    "X_with_dummies.shape"
   ]
  }
 ],
 "metadata": {
  "kernelspec": {
   "display_name": "Python 3",
   "language": "python",
   "name": "python3"
  },
  "language_info": {
   "codemirror_mode": {
    "name": "ipython",
    "version": 3
   },
   "file_extension": ".py",
   "mimetype": "text/x-python",
   "name": "python",
   "nbconvert_exporter": "python",
   "pygments_lexer": "ipython3",
   "version": "3.7.3"
  }
 },
 "nbformat": 4,
 "nbformat_minor": 2
}
